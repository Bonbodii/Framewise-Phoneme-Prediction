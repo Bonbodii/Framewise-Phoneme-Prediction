{
  "cells": [
    {
      "cell_type": "markdown",
      "metadata": {
        "id": "OYlaRwNu7ojq"
      },
      "source": [
        "# **Homework 2: Phoneme Classification**\n"
      ]
    },
    {
      "cell_type": "markdown",
      "metadata": {
        "id": "A7DRC5V7_8A5"
      },
      "source": [
        "Objectives:\n",
        "* Solve a classification problem with deep neural networks (DNNs).\n",
        "* Understand recursive neural networks (RNNs).\n",
        "\n",
        "If you have any questions, please contact the TAs via TA hours, NTU COOL, or email to mlta-2023-spring@googlegroups.com"
      ]
    },
    {
      "cell_type": "markdown",
      "metadata": {
        "id": "KVUGfWTo7_Oj"
      },
      "source": [
        "# Download Data\n",
        "Download data from google drive, then unzip it.\n",
        "\n",
        "You should have\n",
        "- `libriphone/train_split.txt`: training metadata\n",
        "- `libriphone/train_labels`: training labels\n",
        "- `libriphone/test_split.txt`: testing metadata\n",
        "- `libriphone/feat/train/*.pt`: training feature\n",
        "- `libriphone/feat/test/*.pt`:  testing feature\n",
        "\n",
        "after running the following block.\n",
        "\n",
        "> **Notes: if the google drive link is dead, you can download the data directly from [Kaggle](https://www.kaggle.com/c/ml2023spring-hw2/data) and upload it to the workspace.**\n"
      ]
    },
    {
      "cell_type": "code",
      "execution_count": null,
      "metadata": {
        "colab": {
          "base_uri": "https://localhost:8080/"
        },
        "id": "OzkiMEcC3Foq",
        "outputId": "6c18b7bb-6129-426a-99e9-c8522b1d7c5d"
      },
      "outputs": [
        {
          "name": "stdout",
          "output_type": "stream",
          "text": [
            "Looking in indexes: https://pypi.org/simple, https://us-python.pkg.dev/colab-wheels/public/simple/\n",
            "Requirement already satisfied: gdown in /usr/local/lib/python3.10/dist-packages (4.6.6)\n",
            "Collecting gdown\n",
            "  Downloading gdown-4.7.1-py3-none-any.whl (15 kB)\n",
            "Requirement already satisfied: filelock in /usr/local/lib/python3.10/dist-packages (from gdown) (3.12.0)\n",
            "Requirement already satisfied: requests[socks] in /usr/local/lib/python3.10/dist-packages (from gdown) (2.27.1)\n",
            "Requirement already satisfied: six in /usr/local/lib/python3.10/dist-packages (from gdown) (1.16.0)\n",
            "Requirement already satisfied: tqdm in /usr/local/lib/python3.10/dist-packages (from gdown) (4.65.0)\n",
            "Requirement already satisfied: beautifulsoup4 in /usr/local/lib/python3.10/dist-packages (from gdown) (4.11.2)\n",
            "Requirement already satisfied: soupsieve>1.2 in /usr/local/lib/python3.10/dist-packages (from beautifulsoup4->gdown) (2.4.1)\n",
            "Requirement already satisfied: urllib3<1.27,>=1.21.1 in /usr/local/lib/python3.10/dist-packages (from requests[socks]->gdown) (1.26.15)\n",
            "Requirement already satisfied: certifi>=2017.4.17 in /usr/local/lib/python3.10/dist-packages (from requests[socks]->gdown) (2022.12.7)\n",
            "Requirement already satisfied: charset-normalizer~=2.0.0 in /usr/local/lib/python3.10/dist-packages (from requests[socks]->gdown) (2.0.12)\n",
            "Requirement already satisfied: idna<4,>=2.5 in /usr/local/lib/python3.10/dist-packages (from requests[socks]->gdown) (3.4)\n",
            "Requirement already satisfied: PySocks!=1.5.7,>=1.5.6 in /usr/local/lib/python3.10/dist-packages (from requests[socks]->gdown) (1.7.1)\n",
            "Installing collected packages: gdown\n",
            "  Attempting uninstall: gdown\n",
            "    Found existing installation: gdown 4.6.6\n",
            "    Uninstalling gdown-4.6.6:\n",
            "      Successfully uninstalled gdown-4.6.6\n",
            "Successfully installed gdown-4.7.1\n",
            "/usr/local/lib/python3.10/dist-packages/gdown/cli.py:126: FutureWarning: Option `--id` was deprecated in version 4.3.1 and will be removed in 5.0. You don't need to pass it anymore to use a file ID.\n",
            "  warnings.warn(\n",
            "Downloading...\n",
            "From (uriginal): https://drive.google.com/uc?id=1qzCRnywKh30mTbWUEjXuNT2isOCAPdO1\n",
            "From (redirected): https://drive.google.com/uc?id=1qzCRnywKh30mTbWUEjXuNT2isOCAPdO1&confirm=t&uuid=b002e409-6733-433e-9297-e4724fa4cf2b\n",
            "To: /content/libriphone.zip\n",
            "100% 384M/384M [00:05<00:00, 76.4MB/s]\n",
            "feat  test_split.txt  train_labels.txt\ttrain_split.txt\n"
          ]
        }
      ],
      "source": [
        "!pip install --upgrade gdown\n",
        "\n",
        "# Main link\n",
        "# !gdown --id '1N1eVIDe9hKM5uiNRGmifBlwSDGiVXPJe' --output libriphone.zip\n",
        "!gdown --id '1qzCRnywKh30mTbWUEjXuNT2isOCAPdO1' --output libriphone.zip\n",
        "\n",
        "!unzip -q libriphone.zip\n",
        "!ls libriphone"
      ]
    },
    {
      "cell_type": "markdown",
      "metadata": {
        "id": "pADUiYODJE1O"
      },
      "source": [
        "# Some Utility Functions\n",
        "**Fixes random number generator seeds for reproducibility.**"
      ]
    },
    {
      "cell_type": "code",
      "execution_count": null,
      "metadata": {
        "id": "BsZKgBZQJjaE"
      },
      "outputs": [],
      "source": [
        "import numpy as np\n",
        "import torch\n",
        "import random\n",
        "\n",
        "def same_seeds(seed):\n",
        "    random.seed(seed)\n",
        "    np.random.seed(seed)\n",
        "    torch.manual_seed(seed)\n",
        "    if torch.cuda.is_available():\n",
        "        torch.cuda.manual_seed(seed)\n",
        "        torch.cuda.manual_seed_all(seed)\n",
        "    torch.backends.cudnn.benchmark = False\n",
        "    torch.backends.cudnn.deterministic = True"
      ]
    },
    {
      "cell_type": "markdown",
      "metadata": {
        "id": "_L_4anls8Drv"
      },
      "source": [
        "**Helper functions to pre-process the training data from raw MFCC features of each utterance.**\n",
        "\n",
        "A phoneme may span several frames and is dependent to past and future frames. \\\n",
        "Hence we concatenate neighboring phonemes for training to achieve higher accuracy. The **concat_feat** function concatenates past and future k frames (total 2k+1 = n frames), and we predict the center frame.\n",
        "\n",
        "Feel free to modify the data preprocess functions, but **do not drop any frame** (if you modify the functions, remember to check that the number of frames are the same as mentioned in the slides)"
      ]
    },
    {
      "cell_type": "code",
      "execution_count": null,
      "metadata": {
        "id": "IJjLT8em-y9G"
      },
      "outputs": [],
      "source": [
        "import os\n",
        "import torch\n",
        "from tqdm import tqdm\n",
        "\n",
        "def load_feat(path):\n",
        "    feat = torch.load(path)\n",
        "    return feat\n",
        "\n",
        "def shift(x, n):\n",
        "    if n < 0:\n",
        "        left = x[0].repeat(-n, 1)\n",
        "        right = x[:n]\n",
        "    elif n > 0:\n",
        "        right = x[-1].repeat(n, 1)\n",
        "        left = x[n:]\n",
        "    else:\n",
        "        return x\n",
        "\n",
        "    return torch.cat((left, right), dim=0)\n",
        "\n",
        "def concat_feat(x, concat_n):\n",
        "    assert concat_n % 2 == 1 # n must be odd\n",
        "    if concat_n < 2:\n",
        "        return x\n",
        "    seq_len, feature_dim = x.size(0), x.size(1)\n",
        "    x = x.repeat(1, concat_n)\n",
        "    x = x.view(seq_len, concat_n, feature_dim).permute(1, 0, 2) # concat_n, seq_len, feature_dim\n",
        "    mid = (concat_n // 2)\n",
        "    for r_idx in range(1, mid+1):\n",
        "        x[mid + r_idx, :] = shift(x[mid + r_idx], r_idx)\n",
        "        x[mid - r_idx, :] = shift(x[mid - r_idx], -r_idx)\n",
        "\n",
        "    return x.permute(1, 0, 2).view(seq_len, concat_n * feature_dim)\n",
        "\n",
        "def preprocess_data(split, feat_dir, phone_path, concat_nframes, train_ratio=0.8, random_seed=1213):\n",
        "    class_num = 41 # NOTE: pre-computed, should not need change\n",
        "\n",
        "    if split == 'train' or split == 'val':\n",
        "        mode = 'train'\n",
        "    elif split == 'test':\n",
        "        mode = 'test'\n",
        "    else:\n",
        "        raise ValueError('Invalid \\'split\\' argument for dataset: PhoneDataset!')\n",
        "\n",
        "    label_dict = {}\n",
        "    if mode == 'train':\n",
        "        for line in open(os.path.join(phone_path, f'{mode}_labels.txt')).readlines():\n",
        "            line = line.strip('\\n').split(' ')\n",
        "            label_dict[line[0]] = [int(p) for p in line[1:]]\n",
        "\n",
        "        # split training and validation data\n",
        "        usage_list = open(os.path.join(phone_path, 'train_split.txt')).readlines()\n",
        "        random.seed(random_seed)\n",
        "        random.shuffle(usage_list)\n",
        "        train_len = int(len(usage_list) * train_ratio)\n",
        "        usage_list = usage_list[:train_len] if split == 'train' else usage_list[train_len:]\n",
        "\n",
        "    elif mode == 'test':\n",
        "        usage_list = open(os.path.join(phone_path, 'test_split.txt')).readlines()\n",
        "\n",
        "    usage_list = [line.strip('\\n') for line in usage_list]\n",
        "    print('[Dataset] - # phone classes: ' + str(class_num) + ', number of utterances for ' + split + ': ' + str(len(usage_list)))\n",
        "\n",
        "    max_len = 3000000\n",
        "    X = torch.empty(max_len, 39 * concat_nframes)\n",
        "    if mode == 'train':\n",
        "        y = torch.empty(max_len, dtype=torch.long)\n",
        "\n",
        "    idx = 0\n",
        "    for i, fname in tqdm(enumerate(usage_list)):\n",
        "        feat = load_feat(os.path.join(feat_dir, mode, f'{fname}.pt'))\n",
        "        cur_len = len(feat)\n",
        "        feat = concat_feat(feat, concat_nframes)\n",
        "        if mode == 'train':\n",
        "          label = torch.LongTensor(label_dict[fname])\n",
        "\n",
        "        X[idx: idx + cur_len, :] = feat\n",
        "        if mode == 'train':\n",
        "          y[idx: idx + cur_len] = label\n",
        "\n",
        "        idx += cur_len\n",
        "\n",
        "    X = X[:idx, :]\n",
        "    if mode == 'train':\n",
        "      y = y[:idx]\n",
        "\n",
        "    print(f'[INFO] {split} set')\n",
        "    print(X.shape)\n",
        "    if mode == 'train':\n",
        "      print(y.shape)\n",
        "      return X, y\n",
        "    else:\n",
        "      return X\n"
      ]
    },
    {
      "cell_type": "markdown",
      "metadata": {
        "id": "us5XW_x6udZQ"
      },
      "source": [
        "# Dataset"
      ]
    },
    {
      "cell_type": "code",
      "execution_count": null,
      "metadata": {
        "id": "Fjf5EcmJtf4e"
      },
      "outputs": [],
      "source": [
        "import torch\n",
        "from torch.utils.data import Dataset\n",
        "\n",
        "class LibriDataset(Dataset):\n",
        "    def __init__(self, X, y=None):\n",
        "        self.data = X\n",
        "        if y is not None:\n",
        "            self.label = torch.LongTensor(y)\n",
        "        else:\n",
        "            self.label = None\n",
        "\n",
        "    def __getitem__(self, idx):\n",
        "        if self.label is not None:\n",
        "            return self.data[idx], self.label[idx]\n",
        "        else:\n",
        "            return self.data[idx]\n",
        "\n",
        "    def __len__(self):\n",
        "        return len(self.data)\n"
      ]
    },
    {
      "cell_type": "markdown",
      "metadata": {
        "id": "IRqKNvNZwe3V"
      },
      "source": [
        "# Model\n",
        "Feel free to modify the structure of the model."
      ]
    },
    {
      "cell_type": "code",
      "execution_count": null,
      "metadata": {
        "id": "Bg-GRd7ywdrL"
      },
      "outputs": [],
      "source": [
        "import torch.nn as nn\n",
        "\n",
        "class BasicBlock(nn.Module):\n",
        "    def __init__(self, input_dim, output_dim):\n",
        "        super(BasicBlock, self).__init__()\n",
        "\n",
        "        # TODO: apply batch normalization and dropout for strong baseline.\n",
        "        # Reference: https://pytorch.org/docs/stable/generated/torch.nn.BatchNorm1d.html (batch normalization)\n",
        "        #       https://pytorch.org/docs/stable/generated/torch.nn.Dropout.html (dropout)\n",
        "        self.block = nn.Sequential(\n",
        "            nn.Linear(input_dim, output_dim),\n",
        "            nn.BatchNorm1d(output_dim),\n",
        "            nn.ReLU(),\n",
        "            nn.Dropout(0.5)\n",
        "        )\n",
        "\n",
        "    def forward(self, x):\n",
        "        x = self.block(x)\n",
        "        return x\n",
        "\n",
        "\n",
        "class Classifier(nn.Module):\n",
        "    def __init__(self, input_dim, output_dim=41, hidden_layers=1, hidden_dim=256):\n",
        "        super(Classifier, self).__init__()\n",
        "\n",
        "        self.fc = nn.Sequential(\n",
        "            BasicBlock(input_dim, hidden_dim),\n",
        "            *[BasicBlock(hidden_dim, hidden_dim) for _ in range(hidden_layers)],\n",
        "            nn.Linear(hidden_dim, output_dim)\n",
        "        )\n",
        "\n",
        "    def forward(self, x):\n",
        "        x = self.fc(x)\n",
        "        return x"
      ]
    },
    {
      "cell_type": "markdown",
      "metadata": {
        "id": "TlIq8JeqvvHC"
      },
      "source": [
        "# Hyper-parameters"
      ]
    },
    {
      "cell_type": "code",
      "execution_count": null,
      "metadata": {
        "id": "iIHn79Iav1ri"
      },
      "outputs": [],
      "source": [
        "# data prarameters\n",
        "# TODO: change the value of \"concat_nframes\" for medium baseline\n",
        "concat_nframes = 11   # the number of frames to concat with, n must be odd (total 2k+1 = n frames)\n",
        "train_ratio = 0.75   # the ratio of data used for training, the rest will be used for validation\n",
        "\n",
        "# training parameters\n",
        "seed = 1213          # random seed\n",
        "batch_size = 512        # batch size\n",
        "num_epoch = 70         # the number of training epoch\n",
        "learning_rate = 1e-4      # learning rate\n",
        "model_path = './model.ckpt'  # the path where the checkpoint will be saved\n",
        "\n",
        "# model parameters\n",
        "# TODO: change the value of \"hidden_layers\" or \"hidden_dim\" for medium baseline\n",
        "input_dim = 39 * concat_nframes  # the input dim of the model, you should not change the value\n",
        "hidden_layers = 6          # the number of hidden layers\n",
        "hidden_dim = 1750           # the hidden dim"
      ]
    },
    {
      "cell_type": "markdown",
      "metadata": {
        "id": "IIUFRgG5yoDn"
      },
      "source": [
        "# Dataloader"
      ]
    },
    {
      "cell_type": "code",
      "execution_count": null,
      "metadata": {
        "colab": {
          "base_uri": "https://localhost:8080/"
        },
        "id": "c1zI3v5jyrDn",
        "outputId": "60277a2b-e21c-4741-e3ff-eeed8ef4de31"
      },
      "outputs": [
        {
          "name": "stdout",
          "output_type": "stream",
          "text": [
            "DEVICE: cuda\n",
            "[Dataset] - # phone classes: 41, number of utterances for train: 2571\n"
          ]
        },
        {
          "name": "stderr",
          "output_type": "stream",
          "text": [
            "2571it [00:06, 370.21it/s]\n"
          ]
        },
        {
          "name": "stdout",
          "output_type": "stream",
          "text": [
            "[INFO] train set\n",
            "torch.Size([1588590, 429])\n",
            "torch.Size([1588590])\n",
            "[Dataset] - # phone classes: 41, number of utterances for val: 858\n"
          ]
        },
        {
          "name": "stderr",
          "output_type": "stream",
          "text": [
            "858it [00:02, 286.58it/s]\n"
          ]
        },
        {
          "name": "stdout",
          "output_type": "stream",
          "text": [
            "[INFO] val set\n",
            "torch.Size([528204, 429])\n",
            "torch.Size([528204])\n"
          ]
        }
      ],
      "source": [
        "from torch.utils.data import DataLoader\n",
        "import gc\n",
        "\n",
        "same_seeds(seed)\n",
        "device = 'cuda' if torch.cuda.is_available() else 'cpu'\n",
        "print(f'DEVICE: {device}')\n",
        "\n",
        "# preprocess data\n",
        "train_X, train_y = preprocess_data(split='train', feat_dir='./libriphone/feat', phone_path='./libriphone', concat_nframes=concat_nframes, train_ratio=train_ratio, random_seed=seed)\n",
        "val_X, val_y = preprocess_data(split='val', feat_dir='./libriphone/feat', phone_path='./libriphone', concat_nframes=concat_nframes, train_ratio=train_ratio, random_seed=seed)\n",
        "\n",
        "# get dataset\n",
        "train_set = LibriDataset(train_X, train_y)\n",
        "val_set = LibriDataset(val_X, val_y)\n",
        "\n",
        "# remove raw feature to save memory\n",
        "del train_X, train_y, val_X, val_y\n",
        "gc.collect()\n",
        "\n",
        "# get dataloader\n",
        "train_loader = DataLoader(train_set, batch_size=batch_size, shuffle=True)\n",
        "val_loader = DataLoader(val_set, batch_size=batch_size, shuffle=False)"
      ]
    },
    {
      "cell_type": "markdown",
      "metadata": {
        "id": "FtK9r4iZd56K"
      },
      "source": []
    },
    {
      "cell_type": "markdown",
      "metadata": {
        "id": "pwWH1KIqzxEr"
      },
      "source": [
        "# Training"
      ]
    },
    {
      "cell_type": "code",
      "execution_count": null,
      "metadata": {
        "colab": {
          "background_save": true,
          "base_uri": "https://localhost:8080/"
        },
        "id": "CdMWsBs7zzNs",
        "outputId": "fcc8c784-50d7-4ecc-f511-cbb965495673"
      },
      "outputs": [
        {
          "name": "stderr",
          "output_type": "stream",
          "text": [
            "100%|██████████| 3103/3103 [01:24<00:00, 36.74it/s]\n",
            "100%|██████████| 1032/1032 [00:08<00:00, 118.18it/s]\n"
          ]
        },
        {
          "name": "stdout",
          "output_type": "stream",
          "text": [
            "[001/070] Train Acc: 0.46470 Loss: 1.82857 | Val Acc: 0.57442 loss: 1.39231\n",
            "saving model with acc 0.57442\n"
          ]
        },
        {
          "name": "stderr",
          "output_type": "stream",
          "text": [
            "100%|██████████| 3103/3103 [01:24<00:00, 36.72it/s]\n",
            "100%|██████████| 1032/1032 [00:09<00:00, 109.75it/s]\n"
          ]
        },
        {
          "name": "stdout",
          "output_type": "stream",
          "text": [
            "[002/070] Train Acc: 0.55202 Loss: 1.47128 | Val Acc: 0.61017 loss: 1.25908\n",
            "saving model with acc 0.61017\n"
          ]
        },
        {
          "name": "stderr",
          "output_type": "stream",
          "text": [
            "100%|██████████| 3103/3103 [01:25<00:00, 36.09it/s]\n",
            "100%|██████████| 1032/1032 [00:09<00:00, 109.82it/s]\n"
          ]
        },
        {
          "name": "stdout",
          "output_type": "stream",
          "text": [
            "[003/070] Train Acc: 0.57752 Loss: 1.37540 | Val Acc: 0.62792 loss: 1.19157\n",
            "saving model with acc 0.62792\n"
          ]
        },
        {
          "name": "stderr",
          "output_type": "stream",
          "text": [
            "100%|██████████| 3103/3103 [01:25<00:00, 36.26it/s]\n",
            "100%|██████████| 1032/1032 [00:09<00:00, 110.57it/s]\n"
          ]
        },
        {
          "name": "stdout",
          "output_type": "stream",
          "text": [
            "[004/070] Train Acc: 0.59237 Loss: 1.32075 | Val Acc: 0.63948 loss: 1.15147\n",
            "saving model with acc 0.63948\n"
          ]
        },
        {
          "name": "stderr",
          "output_type": "stream",
          "text": [
            "100%|██████████| 3103/3103 [01:25<00:00, 36.28it/s]\n",
            "100%|██████████| 1032/1032 [00:09<00:00, 112.08it/s]\n"
          ]
        },
        {
          "name": "stdout",
          "output_type": "stream",
          "text": [
            "[005/070] Train Acc: 0.60367 Loss: 1.28248 | Val Acc: 0.64907 loss: 1.11848\n",
            "saving model with acc 0.64907\n"
          ]
        },
        {
          "name": "stderr",
          "output_type": "stream",
          "text": [
            "100%|██████████| 3103/3103 [01:27<00:00, 35.57it/s]\n",
            "100%|██████████| 1032/1032 [00:09<00:00, 110.55it/s]\n"
          ]
        },
        {
          "name": "stdout",
          "output_type": "stream",
          "text": [
            "[006/070] Train Acc: 0.61220 Loss: 1.25154 | Val Acc: 0.65483 loss: 1.09542\n",
            "saving model with acc 0.65483\n"
          ]
        },
        {
          "name": "stderr",
          "output_type": "stream",
          "text": [
            "100%|██████████| 3103/3103 [01:25<00:00, 36.25it/s]\n",
            "100%|██████████| 1032/1032 [00:09<00:00, 111.38it/s]\n"
          ]
        },
        {
          "name": "stdout",
          "output_type": "stream",
          "text": [
            "[007/070] Train Acc: 0.61865 Loss: 1.22756 | Val Acc: 0.66054 loss: 1.07755\n",
            "saving model with acc 0.66054\n"
          ]
        },
        {
          "name": "stderr",
          "output_type": "stream",
          "text": [
            "100%|██████████| 3103/3103 [01:25<00:00, 36.33it/s]\n",
            "100%|██████████| 1032/1032 [00:09<00:00, 114.49it/s]\n"
          ]
        },
        {
          "name": "stdout",
          "output_type": "stream",
          "text": [
            "[008/070] Train Acc: 0.62441 Loss: 1.20805 | Val Acc: 0.66527 loss: 1.06046\n",
            "saving model with acc 0.66527\n"
          ]
        },
        {
          "name": "stderr",
          "output_type": "stream",
          "text": [
            "100%|██████████| 3103/3103 [01:25<00:00, 36.30it/s]\n",
            "100%|██████████| 1032/1032 [00:09<00:00, 111.53it/s]\n"
          ]
        },
        {
          "name": "stdout",
          "output_type": "stream",
          "text": [
            "[009/070] Train Acc: 0.62975 Loss: 1.18955 | Val Acc: 0.66919 loss: 1.04572\n",
            "saving model with acc 0.66919\n"
          ]
        },
        {
          "name": "stderr",
          "output_type": "stream",
          "text": [
            "100%|██████████| 3103/3103 [01:25<00:00, 36.41it/s]\n",
            "100%|██████████| 1032/1032 [00:09<00:00, 111.46it/s]\n"
          ]
        },
        {
          "name": "stdout",
          "output_type": "stream",
          "text": [
            "[010/070] Train Acc: 0.63360 Loss: 1.17493 | Val Acc: 0.67117 loss: 1.03786\n",
            "saving model with acc 0.67117\n"
          ]
        },
        {
          "name": "stderr",
          "output_type": "stream",
          "text": [
            "100%|██████████| 3103/3103 [01:25<00:00, 36.32it/s]\n",
            "100%|██████████| 1032/1032 [00:09<00:00, 111.37it/s]\n"
          ]
        },
        {
          "name": "stdout",
          "output_type": "stream",
          "text": [
            "[011/070] Train Acc: 0.63760 Loss: 1.16082 | Val Acc: 0.67453 loss: 1.02625\n",
            "saving model with acc 0.67453\n"
          ]
        },
        {
          "name": "stderr",
          "output_type": "stream",
          "text": [
            "100%|██████████| 3103/3103 [01:25<00:00, 36.33it/s]\n",
            "100%|██████████| 1032/1032 [00:09<00:00, 113.46it/s]\n"
          ]
        },
        {
          "name": "stdout",
          "output_type": "stream",
          "text": [
            "[012/070] Train Acc: 0.64121 Loss: 1.14877 | Val Acc: 0.67753 loss: 1.01582\n",
            "saving model with acc 0.67753\n"
          ]
        },
        {
          "name": "stderr",
          "output_type": "stream",
          "text": [
            "100%|██████████| 3103/3103 [01:25<00:00, 36.23it/s]\n",
            "100%|██████████| 1032/1032 [00:09<00:00, 110.84it/s]\n"
          ]
        },
        {
          "name": "stdout",
          "output_type": "stream",
          "text": [
            "[013/070] Train Acc: 0.64393 Loss: 1.13774 | Val Acc: 0.67966 loss: 1.00864\n",
            "saving model with acc 0.67966\n"
          ]
        },
        {
          "name": "stderr",
          "output_type": "stream",
          "text": [
            "100%|██████████| 3103/3103 [01:25<00:00, 36.36it/s]\n",
            "100%|██████████| 1032/1032 [00:09<00:00, 112.42it/s]\n"
          ]
        },
        {
          "name": "stdout",
          "output_type": "stream",
          "text": [
            "[014/070] Train Acc: 0.64732 Loss: 1.12626 | Val Acc: 0.68168 loss: 0.99957\n",
            "saving model with acc 0.68168\n"
          ]
        },
        {
          "name": "stderr",
          "output_type": "stream",
          "text": [
            "100%|██████████| 3103/3103 [01:25<00:00, 36.49it/s]\n",
            "100%|██████████| 1032/1032 [00:09<00:00, 112.10it/s]\n"
          ]
        },
        {
          "name": "stdout",
          "output_type": "stream",
          "text": [
            "[015/070] Train Acc: 0.64993 Loss: 1.11702 | Val Acc: 0.68422 loss: 0.99442\n",
            "saving model with acc 0.68422\n"
          ]
        },
        {
          "name": "stderr",
          "output_type": "stream",
          "text": [
            "100%|██████████| 3103/3103 [01:25<00:00, 36.42it/s]\n",
            "100%|██████████| 1032/1032 [00:09<00:00, 113.40it/s]\n"
          ]
        },
        {
          "name": "stdout",
          "output_type": "stream",
          "text": [
            "[016/070] Train Acc: 0.65276 Loss: 1.10697 | Val Acc: 0.68546 loss: 0.98846\n",
            "saving model with acc 0.68546\n"
          ]
        },
        {
          "name": "stderr",
          "output_type": "stream",
          "text": [
            "100%|██████████| 3103/3103 [01:25<00:00, 36.47it/s]\n",
            "100%|██████████| 1032/1032 [00:09<00:00, 113.81it/s]\n"
          ]
        },
        {
          "name": "stdout",
          "output_type": "stream",
          "text": [
            "[017/070] Train Acc: 0.65463 Loss: 1.09961 | Val Acc: 0.68847 loss: 0.98079\n",
            "saving model with acc 0.68847\n"
          ]
        },
        {
          "name": "stderr",
          "output_type": "stream",
          "text": [
            "100%|██████████| 3103/3103 [01:24<00:00, 36.55it/s]\n",
            "100%|██████████| 1032/1032 [00:09<00:00, 112.19it/s]\n"
          ]
        },
        {
          "name": "stdout",
          "output_type": "stream",
          "text": [
            "[018/070] Train Acc: 0.65702 Loss: 1.09091 | Val Acc: 0.68928 loss: 0.97541\n",
            "saving model with acc 0.68928\n"
          ]
        },
        {
          "name": "stderr",
          "output_type": "stream",
          "text": [
            "100%|██████████| 3103/3103 [01:24<00:00, 36.59it/s]\n",
            "100%|██████████| 1032/1032 [00:09<00:00, 112.40it/s]\n"
          ]
        },
        {
          "name": "stdout",
          "output_type": "stream",
          "text": [
            "[019/070] Train Acc: 0.65939 Loss: 1.08410 | Val Acc: 0.69114 loss: 0.97136\n",
            "saving model with acc 0.69114\n"
          ]
        },
        {
          "name": "stderr",
          "output_type": "stream",
          "text": [
            "100%|██████████| 3103/3103 [01:25<00:00, 36.39it/s]\n",
            "100%|██████████| 1032/1032 [00:09<00:00, 112.54it/s]\n"
          ]
        },
        {
          "name": "stdout",
          "output_type": "stream",
          "text": [
            "[020/070] Train Acc: 0.66121 Loss: 1.07652 | Val Acc: 0.69236 loss: 0.96571\n",
            "saving model with acc 0.69236\n"
          ]
        },
        {
          "name": "stderr",
          "output_type": "stream",
          "text": [
            "100%|██████████| 3103/3103 [01:25<00:00, 36.48it/s]\n",
            "100%|██████████| 1032/1032 [00:09<00:00, 113.90it/s]\n"
          ]
        },
        {
          "name": "stdout",
          "output_type": "stream",
          "text": [
            "[021/070] Train Acc: 0.66291 Loss: 1.07048 | Val Acc: 0.69437 loss: 0.95993\n",
            "saving model with acc 0.69437\n"
          ]
        },
        {
          "name": "stderr",
          "output_type": "stream",
          "text": [
            "100%|██████████| 3103/3103 [01:24<00:00, 36.52it/s]\n",
            "100%|██████████| 1032/1032 [00:09<00:00, 114.41it/s]\n"
          ]
        },
        {
          "name": "stdout",
          "output_type": "stream",
          "text": [
            "[022/070] Train Acc: 0.66569 Loss: 1.06281 | Val Acc: 0.69410 loss: 0.95833\n"
          ]
        },
        {
          "name": "stderr",
          "output_type": "stream",
          "text": [
            "100%|██████████| 3103/3103 [01:24<00:00, 36.55it/s]\n",
            "100%|██████████| 1032/1032 [00:09<00:00, 112.51it/s]\n"
          ]
        },
        {
          "name": "stdout",
          "output_type": "stream",
          "text": [
            "[023/070] Train Acc: 0.66685 Loss: 1.05717 | Val Acc: 0.69653 loss: 0.95179\n",
            "saving model with acc 0.69653\n"
          ]
        },
        {
          "name": "stderr",
          "output_type": "stream",
          "text": [
            "100%|██████████| 3103/3103 [01:24<00:00, 36.60it/s]\n",
            "100%|██████████| 1032/1032 [00:09<00:00, 111.85it/s]\n"
          ]
        },
        {
          "name": "stdout",
          "output_type": "stream",
          "text": [
            "[024/070] Train Acc: 0.66848 Loss: 1.05117 | Val Acc: 0.69638 loss: 0.95079\n"
          ]
        },
        {
          "name": "stderr",
          "output_type": "stream",
          "text": [
            "100%|██████████| 3103/3103 [01:24<00:00, 36.51it/s]\n",
            "100%|██████████| 1032/1032 [00:09<00:00, 112.26it/s]\n"
          ]
        },
        {
          "name": "stdout",
          "output_type": "stream",
          "text": [
            "[025/070] Train Acc: 0.67055 Loss: 1.04512 | Val Acc: 0.69783 loss: 0.94709\n",
            "saving model with acc 0.69783\n"
          ]
        },
        {
          "name": "stderr",
          "output_type": "stream",
          "text": [
            "100%|██████████| 3103/3103 [01:25<00:00, 36.50it/s]\n",
            "100%|██████████| 1032/1032 [00:09<00:00, 113.50it/s]\n"
          ]
        },
        {
          "name": "stdout",
          "output_type": "stream",
          "text": [
            "[026/070] Train Acc: 0.67197 Loss: 1.03927 | Val Acc: 0.69865 loss: 0.94433\n",
            "saving model with acc 0.69865\n"
          ]
        },
        {
          "name": "stderr",
          "output_type": "stream",
          "text": [
            "100%|██████████| 3103/3103 [01:24<00:00, 36.60it/s]\n",
            "100%|██████████| 1032/1032 [00:08<00:00, 116.32it/s]\n"
          ]
        },
        {
          "name": "stdout",
          "output_type": "stream",
          "text": [
            "[027/070] Train Acc: 0.67287 Loss: 1.03581 | Val Acc: 0.69976 loss: 0.94007\n",
            "saving model with acc 0.69976\n"
          ]
        },
        {
          "name": "stderr",
          "output_type": "stream",
          "text": [
            "100%|██████████| 3103/3103 [01:25<00:00, 36.30it/s]\n",
            "100%|██████████| 1032/1032 [00:09<00:00, 112.01it/s]\n"
          ]
        },
        {
          "name": "stdout",
          "output_type": "stream",
          "text": [
            "[028/070] Train Acc: 0.67445 Loss: 1.03004 | Val Acc: 0.70063 loss: 0.93655\n",
            "saving model with acc 0.70063\n"
          ]
        },
        {
          "name": "stderr",
          "output_type": "stream",
          "text": [
            "100%|██████████| 3103/3103 [01:25<00:00, 36.51it/s]\n",
            "100%|██████████| 1032/1032 [00:09<00:00, 111.65it/s]\n"
          ]
        },
        {
          "name": "stdout",
          "output_type": "stream",
          "text": [
            "[029/070] Train Acc: 0.67566 Loss: 1.02566 | Val Acc: 0.70175 loss: 0.93584\n",
            "saving model with acc 0.70175\n"
          ]
        },
        {
          "name": "stderr",
          "output_type": "stream",
          "text": [
            "100%|██████████| 3103/3103 [01:24<00:00, 36.54it/s]\n",
            "100%|██████████| 1032/1032 [00:09<00:00, 112.68it/s]\n"
          ]
        },
        {
          "name": "stdout",
          "output_type": "stream",
          "text": [
            "[030/070] Train Acc: 0.67741 Loss: 1.02068 | Val Acc: 0.70239 loss: 0.93178\n",
            "saving model with acc 0.70239\n"
          ]
        },
        {
          "name": "stderr",
          "output_type": "stream",
          "text": [
            "100%|██████████| 3103/3103 [01:25<00:00, 36.46it/s]\n",
            "100%|██████████| 1032/1032 [00:09<00:00, 112.47it/s]\n"
          ]
        },
        {
          "name": "stdout",
          "output_type": "stream",
          "text": [
            "[031/070] Train Acc: 0.67826 Loss: 1.01688 | Val Acc: 0.70359 loss: 0.92849\n",
            "saving model with acc 0.70359\n"
          ]
        },
        {
          "name": "stderr",
          "output_type": "stream",
          "text": [
            "100%|██████████| 3103/3103 [01:25<00:00, 36.41it/s]\n",
            "100%|██████████| 1032/1032 [00:08<00:00, 114.88it/s]\n"
          ]
        },
        {
          "name": "stdout",
          "output_type": "stream",
          "text": [
            "[032/070] Train Acc: 0.67968 Loss: 1.01088 | Val Acc: 0.70432 loss: 0.92558\n",
            "saving model with acc 0.70432\n"
          ]
        },
        {
          "name": "stderr",
          "output_type": "stream",
          "text": [
            "100%|██████████| 3103/3103 [01:24<00:00, 36.55it/s]\n",
            "100%|██████████| 1032/1032 [00:09<00:00, 111.47it/s]\n"
          ]
        },
        {
          "name": "stdout",
          "output_type": "stream",
          "text": [
            "[033/070] Train Acc: 0.68082 Loss: 1.00736 | Val Acc: 0.70500 loss: 0.92387\n",
            "saving model with acc 0.70500\n"
          ]
        },
        {
          "name": "stderr",
          "output_type": "stream",
          "text": [
            "100%|██████████| 3103/3103 [01:24<00:00, 36.57it/s]\n",
            "100%|██████████| 1032/1032 [00:09<00:00, 111.54it/s]\n"
          ]
        },
        {
          "name": "stdout",
          "output_type": "stream",
          "text": [
            "[034/070] Train Acc: 0.68163 Loss: 1.00366 | Val Acc: 0.70492 loss: 0.92301\n"
          ]
        },
        {
          "name": "stderr",
          "output_type": "stream",
          "text": [
            "100%|██████████| 3103/3103 [01:25<00:00, 36.31it/s]\n",
            "100%|██████████| 1032/1032 [00:09<00:00, 112.80it/s]\n"
          ]
        },
        {
          "name": "stdout",
          "output_type": "stream",
          "text": [
            "[035/070] Train Acc: 0.68330 Loss: 0.99965 | Val Acc: 0.70549 loss: 0.92018\n",
            "saving model with acc 0.70549\n"
          ]
        },
        {
          "name": "stderr",
          "output_type": "stream",
          "text": [
            "100%|██████████| 3103/3103 [01:25<00:00, 36.23it/s]\n",
            "100%|██████████| 1032/1032 [00:09<00:00, 113.75it/s]\n"
          ]
        },
        {
          "name": "stdout",
          "output_type": "stream",
          "text": [
            "[036/070] Train Acc: 0.68436 Loss: 0.99533 | Val Acc: 0.70676 loss: 0.92069\n",
            "saving model with acc 0.70676\n"
          ]
        },
        {
          "name": "stderr",
          "output_type": "stream",
          "text": [
            "100%|██████████| 3103/3103 [01:26<00:00, 35.96it/s]\n",
            "100%|██████████| 1032/1032 [00:09<00:00, 107.94it/s]\n"
          ]
        },
        {
          "name": "stdout",
          "output_type": "stream",
          "text": [
            "[037/070] Train Acc: 0.68505 Loss: 0.99194 | Val Acc: 0.70683 loss: 0.91650\n",
            "saving model with acc 0.70683\n"
          ]
        },
        {
          "name": "stderr",
          "output_type": "stream",
          "text": [
            "100%|██████████| 3103/3103 [01:26<00:00, 35.99it/s]\n",
            "100%|██████████| 1032/1032 [00:09<00:00, 109.21it/s]\n"
          ]
        },
        {
          "name": "stdout",
          "output_type": "stream",
          "text": [
            "[038/070] Train Acc: 0.68590 Loss: 0.98894 | Val Acc: 0.70868 loss: 0.91238\n",
            "saving model with acc 0.70868\n"
          ]
        },
        {
          "name": "stderr",
          "output_type": "stream",
          "text": [
            "100%|██████████| 3103/3103 [01:26<00:00, 36.04it/s]\n",
            "100%|██████████| 1032/1032 [00:09<00:00, 111.63it/s]\n"
          ]
        },
        {
          "name": "stdout",
          "output_type": "stream",
          "text": [
            "[039/070] Train Acc: 0.68721 Loss: 0.98424 | Val Acc: 0.70883 loss: 0.91198\n",
            "saving model with acc 0.70883\n"
          ]
        },
        {
          "name": "stderr",
          "output_type": "stream",
          "text": [
            "100%|██████████| 3103/3103 [01:25<00:00, 36.35it/s]\n",
            "100%|██████████| 1032/1032 [00:08<00:00, 114.88it/s]\n"
          ]
        },
        {
          "name": "stdout",
          "output_type": "stream",
          "text": [
            "[040/070] Train Acc: 0.68821 Loss: 0.98088 | Val Acc: 0.70955 loss: 0.91092\n",
            "saving model with acc 0.70955\n"
          ]
        },
        {
          "name": "stderr",
          "output_type": "stream",
          "text": [
            "100%|██████████| 3103/3103 [01:24<00:00, 36.62it/s]\n",
            "100%|██████████| 1032/1032 [00:09<00:00, 114.06it/s]\n"
          ]
        },
        {
          "name": "stdout",
          "output_type": "stream",
          "text": [
            "[041/070] Train Acc: 0.68920 Loss: 0.97766 | Val Acc: 0.70964 loss: 0.90929\n",
            "saving model with acc 0.70964\n"
          ]
        },
        {
          "name": "stderr",
          "output_type": "stream",
          "text": [
            "100%|██████████| 3103/3103 [01:24<00:00, 36.58it/s]\n",
            "100%|██████████| 1032/1032 [00:09<00:00, 112.66it/s]\n"
          ]
        },
        {
          "name": "stdout",
          "output_type": "stream",
          "text": [
            "[042/070] Train Acc: 0.69031 Loss: 0.97446 | Val Acc: 0.70992 loss: 0.90738\n",
            "saving model with acc 0.70992\n"
          ]
        },
        {
          "name": "stderr",
          "output_type": "stream",
          "text": [
            "100%|██████████| 3103/3103 [01:24<00:00, 36.55it/s]\n",
            "100%|██████████| 1032/1032 [00:09<00:00, 113.22it/s]\n"
          ]
        },
        {
          "name": "stdout",
          "output_type": "stream",
          "text": [
            "[043/070] Train Acc: 0.69066 Loss: 0.97315 | Val Acc: 0.71021 loss: 0.90681\n",
            "saving model with acc 0.71021\n"
          ]
        },
        {
          "name": "stderr",
          "output_type": "stream",
          "text": [
            "100%|██████████| 3103/3103 [01:24<00:00, 36.65it/s]\n",
            "100%|██████████| 1032/1032 [00:09<00:00, 112.81it/s]\n"
          ]
        },
        {
          "name": "stdout",
          "output_type": "stream",
          "text": [
            "[044/070] Train Acc: 0.69177 Loss: 0.96856 | Val Acc: 0.71084 loss: 0.90459\n",
            "saving model with acc 0.71084\n"
          ]
        },
        {
          "name": "stderr",
          "output_type": "stream",
          "text": [
            "100%|██████████| 3103/3103 [01:24<00:00, 36.59it/s]\n",
            "100%|██████████| 1032/1032 [00:09<00:00, 114.11it/s]\n"
          ]
        },
        {
          "name": "stdout",
          "output_type": "stream",
          "text": [
            "[045/070] Train Acc: 0.69284 Loss: 0.96601 | Val Acc: 0.71148 loss: 0.90419\n",
            "saving model with acc 0.71148\n"
          ]
        },
        {
          "name": "stderr",
          "output_type": "stream",
          "text": [
            "100%|██████████| 3103/3103 [01:24<00:00, 36.59it/s]\n",
            "100%|██████████| 1032/1032 [00:08<00:00, 115.75it/s]\n"
          ]
        },
        {
          "name": "stdout",
          "output_type": "stream",
          "text": [
            "[046/070] Train Acc: 0.69344 Loss: 0.96292 | Val Acc: 0.71179 loss: 0.90314\n",
            "saving model with acc 0.71179\n"
          ]
        },
        {
          "name": "stderr",
          "output_type": "stream",
          "text": [
            "100%|██████████| 3103/3103 [01:24<00:00, 36.60it/s]\n",
            "100%|██████████| 1032/1032 [00:09<00:00, 112.57it/s]\n"
          ]
        },
        {
          "name": "stdout",
          "output_type": "stream",
          "text": [
            "[047/070] Train Acc: 0.69420 Loss: 0.96021 | Val Acc: 0.71271 loss: 0.90090\n",
            "saving model with acc 0.71271\n"
          ]
        },
        {
          "name": "stderr",
          "output_type": "stream",
          "text": [
            "100%|██████████| 3103/3103 [01:24<00:00, 36.60it/s]\n",
            "100%|██████████| 1032/1032 [00:09<00:00, 113.26it/s]\n"
          ]
        },
        {
          "name": "stdout",
          "output_type": "stream",
          "text": [
            "[048/070] Train Acc: 0.69465 Loss: 0.95705 | Val Acc: 0.71181 loss: 0.90121\n"
          ]
        },
        {
          "name": "stderr",
          "output_type": "stream",
          "text": [
            "100%|██████████| 3103/3103 [01:24<00:00, 36.67it/s]\n",
            "100%|██████████| 1032/1032 [00:09<00:00, 112.27it/s]\n"
          ]
        },
        {
          "name": "stdout",
          "output_type": "stream",
          "text": [
            "[049/070] Train Acc: 0.69580 Loss: 0.95424 | Val Acc: 0.71281 loss: 0.89813\n",
            "saving model with acc 0.71281\n"
          ]
        },
        {
          "name": "stderr",
          "output_type": "stream",
          "text": [
            "100%|██████████| 3103/3103 [01:24<00:00, 36.71it/s]\n",
            "100%|██████████| 1032/1032 [00:09<00:00, 113.13it/s]\n"
          ]
        },
        {
          "name": "stdout",
          "output_type": "stream",
          "text": [
            "[050/070] Train Acc: 0.69671 Loss: 0.95180 | Val Acc: 0.71324 loss: 0.89822\n",
            "saving model with acc 0.71324\n"
          ]
        },
        {
          "name": "stderr",
          "output_type": "stream",
          "text": [
            "100%|██████████| 3103/3103 [01:24<00:00, 36.70it/s]\n",
            "100%|██████████| 1032/1032 [00:08<00:00, 115.97it/s]\n"
          ]
        },
        {
          "name": "stdout",
          "output_type": "stream",
          "text": [
            "[051/070] Train Acc: 0.69696 Loss: 0.95032 | Val Acc: 0.71325 loss: 0.89754\n",
            "saving model with acc 0.71325\n"
          ]
        },
        {
          "name": "stderr",
          "output_type": "stream",
          "text": [
            "100%|██████████| 3103/3103 [01:24<00:00, 36.66it/s]\n",
            "100%|██████████| 1032/1032 [00:09<00:00, 112.99it/s]\n"
          ]
        },
        {
          "name": "stdout",
          "output_type": "stream",
          "text": [
            "[052/070] Train Acc: 0.69744 Loss: 0.94840 | Val Acc: 0.71402 loss: 0.89554\n",
            "saving model with acc 0.71402\n"
          ]
        },
        {
          "name": "stderr",
          "output_type": "stream",
          "text": [
            "100%|██████████| 3103/3103 [01:24<00:00, 36.66it/s]\n",
            "100%|██████████| 1032/1032 [00:09<00:00, 112.58it/s]\n"
          ]
        },
        {
          "name": "stdout",
          "output_type": "stream",
          "text": [
            "[053/070] Train Acc: 0.69873 Loss: 0.94465 | Val Acc: 0.71420 loss: 0.89554\n",
            "saving model with acc 0.71420\n"
          ]
        },
        {
          "name": "stderr",
          "output_type": "stream",
          "text": [
            "100%|██████████| 3103/3103 [01:24<00:00, 36.70it/s]\n",
            "100%|██████████| 1032/1032 [00:09<00:00, 112.90it/s]\n"
          ]
        },
        {
          "name": "stdout",
          "output_type": "stream",
          "text": [
            "[054/070] Train Acc: 0.69924 Loss: 0.94236 | Val Acc: 0.71448 loss: 0.89411\n",
            "saving model with acc 0.71448\n"
          ]
        },
        {
          "name": "stderr",
          "output_type": "stream",
          "text": [
            "100%|██████████| 3103/3103 [01:24<00:00, 36.63it/s]\n",
            "100%|██████████| 1032/1032 [00:09<00:00, 112.44it/s]\n"
          ]
        },
        {
          "name": "stdout",
          "output_type": "stream",
          "text": [
            "[055/070] Train Acc: 0.69958 Loss: 0.94067 | Val Acc: 0.71517 loss: 0.89322\n",
            "saving model with acc 0.71517\n"
          ]
        },
        {
          "name": "stderr",
          "output_type": "stream",
          "text": [
            "100%|██████████| 3103/3103 [01:24<00:00, 36.65it/s]\n",
            "100%|██████████| 1032/1032 [00:09<00:00, 114.42it/s]\n"
          ]
        },
        {
          "name": "stdout",
          "output_type": "stream",
          "text": [
            "[056/070] Train Acc: 0.70064 Loss: 0.93789 | Val Acc: 0.71528 loss: 0.89328\n",
            "saving model with acc 0.71528\n"
          ]
        },
        {
          "name": "stderr",
          "output_type": "stream",
          "text": [
            "100%|██████████| 3103/3103 [01:24<00:00, 36.54it/s]\n",
            "100%|██████████| 1032/1032 [00:08<00:00, 115.46it/s]\n"
          ]
        },
        {
          "name": "stdout",
          "output_type": "stream",
          "text": [
            "[057/070] Train Acc: 0.70126 Loss: 0.93533 | Val Acc: 0.71607 loss: 0.89234\n",
            "saving model with acc 0.71607\n"
          ]
        },
        {
          "name": "stderr",
          "output_type": "stream",
          "text": [
            "100%|██████████| 3103/3103 [01:24<00:00, 36.57it/s]\n",
            "100%|██████████| 1032/1032 [00:09<00:00, 112.89it/s]\n"
          ]
        },
        {
          "name": "stdout",
          "output_type": "stream",
          "text": [
            "[058/070] Train Acc: 0.70106 Loss: 0.93367 | Val Acc: 0.71539 loss: 0.89139\n"
          ]
        },
        {
          "name": "stderr",
          "output_type": "stream",
          "text": [
            "100%|██████████| 3103/3103 [01:24<00:00, 36.65it/s]\n",
            "100%|██████████| 1032/1032 [00:09<00:00, 113.00it/s]\n"
          ]
        },
        {
          "name": "stdout",
          "output_type": "stream",
          "text": [
            "[059/070] Train Acc: 0.70246 Loss: 0.93080 | Val Acc: 0.71510 loss: 0.89235\n"
          ]
        },
        {
          "name": "stderr",
          "output_type": "stream",
          "text": [
            "100%|██████████| 3103/3103 [01:24<00:00, 36.69it/s]\n",
            "100%|██████████| 1032/1032 [00:09<00:00, 112.71it/s]\n"
          ]
        },
        {
          "name": "stdout",
          "output_type": "stream",
          "text": [
            "[060/070] Train Acc: 0.70272 Loss: 0.92962 | Val Acc: 0.71656 loss: 0.88901\n",
            "saving model with acc 0.71656\n"
          ]
        },
        {
          "name": "stderr",
          "output_type": "stream",
          "text": [
            "100%|██████████| 3103/3103 [01:24<00:00, 36.69it/s]\n",
            "100%|██████████| 1032/1032 [00:09<00:00, 112.74it/s]\n"
          ]
        },
        {
          "name": "stdout",
          "output_type": "stream",
          "text": [
            "[061/070] Train Acc: 0.70333 Loss: 0.92680 | Val Acc: 0.71610 loss: 0.88950\n"
          ]
        },
        {
          "name": "stderr",
          "output_type": "stream",
          "text": [
            "100%|██████████| 3103/3103 [01:24<00:00, 36.64it/s]\n",
            "100%|██████████| 1032/1032 [00:08<00:00, 115.25it/s]\n"
          ]
        },
        {
          "name": "stdout",
          "output_type": "stream",
          "text": [
            "[062/070] Train Acc: 0.70426 Loss: 0.92478 | Val Acc: 0.71700 loss: 0.88760\n",
            "saving model with acc 0.71700\n"
          ]
        },
        {
          "name": "stderr",
          "output_type": "stream",
          "text": [
            "100%|██████████| 3103/3103 [01:24<00:00, 36.64it/s]\n",
            "100%|██████████| 1032/1032 [00:08<00:00, 116.08it/s]\n"
          ]
        },
        {
          "name": "stdout",
          "output_type": "stream",
          "text": [
            "[063/070] Train Acc: 0.70441 Loss: 0.92380 | Val Acc: 0.71673 loss: 0.88759\n"
          ]
        },
        {
          "name": "stderr",
          "output_type": "stream",
          "text": [
            "100%|██████████| 3103/3103 [01:24<00:00, 36.61it/s]\n",
            "100%|██████████| 1032/1032 [00:09<00:00, 112.53it/s]\n"
          ]
        },
        {
          "name": "stdout",
          "output_type": "stream",
          "text": [
            "[064/070] Train Acc: 0.70494 Loss: 0.92087 | Val Acc: 0.71683 loss: 0.88724\n"
          ]
        },
        {
          "name": "stderr",
          "output_type": "stream",
          "text": [
            "100%|██████████| 3103/3103 [01:24<00:00, 36.69it/s]\n",
            "100%|██████████| 1032/1032 [00:09<00:00, 112.96it/s]\n"
          ]
        },
        {
          "name": "stdout",
          "output_type": "stream",
          "text": [
            "[065/070] Train Acc: 0.70536 Loss: 0.92070 | Val Acc: 0.71761 loss: 0.88551\n",
            "saving model with acc 0.71761\n"
          ]
        },
        {
          "name": "stderr",
          "output_type": "stream",
          "text": [
            "100%|██████████| 3103/3103 [01:24<00:00, 36.74it/s]\n",
            "100%|██████████| 1032/1032 [00:09<00:00, 113.37it/s]\n"
          ]
        },
        {
          "name": "stdout",
          "output_type": "stream",
          "text": [
            "[066/070] Train Acc: 0.70626 Loss: 0.91739 | Val Acc: 0.71795 loss: 0.88532\n",
            "saving model with acc 0.71795\n"
          ]
        },
        {
          "name": "stderr",
          "output_type": "stream",
          "text": [
            "100%|██████████| 3103/3103 [01:24<00:00, 36.75it/s]\n",
            "100%|██████████| 1032/1032 [00:09<00:00, 113.67it/s]\n"
          ]
        },
        {
          "name": "stdout",
          "output_type": "stream",
          "text": [
            "[067/070] Train Acc: 0.70628 Loss: 0.91596 | Val Acc: 0.71808 loss: 0.88590\n",
            "saving model with acc 0.71808\n"
          ]
        },
        {
          "name": "stderr",
          "output_type": "stream",
          "text": [
            "100%|██████████| 3103/3103 [01:24<00:00, 36.70it/s]\n",
            "100%|██████████| 1032/1032 [00:08<00:00, 115.40it/s]\n"
          ]
        },
        {
          "name": "stdout",
          "output_type": "stream",
          "text": [
            "[068/070] Train Acc: 0.70685 Loss: 0.91446 | Val Acc: 0.71807 loss: 0.88428\n"
          ]
        },
        {
          "name": "stderr",
          "output_type": "stream",
          "text": [
            "100%|██████████| 3103/3103 [01:24<00:00, 36.72it/s]\n",
            "100%|██████████| 1032/1032 [00:08<00:00, 115.68it/s]\n"
          ]
        },
        {
          "name": "stdout",
          "output_type": "stream",
          "text": [
            "[069/070] Train Acc: 0.70764 Loss: 0.91273 | Val Acc: 0.71833 loss: 0.88243\n",
            "saving model with acc 0.71833\n"
          ]
        },
        {
          "name": "stderr",
          "output_type": "stream",
          "text": [
            "100%|██████████| 3103/3103 [01:25<00:00, 36.48it/s]\n",
            "100%|██████████| 1032/1032 [00:09<00:00, 110.06it/s]"
          ]
        },
        {
          "name": "stdout",
          "output_type": "stream",
          "text": [
            "[070/070] Train Acc: 0.70848 Loss: 0.91085 | Val Acc: 0.71783 loss: 0.88624\n"
          ]
        },
        {
          "name": "stderr",
          "output_type": "stream",
          "text": [
            "\n"
          ]
        }
      ],
      "source": [
        "# create model, define a loss function, and optimizer\n",
        "model = Classifier(input_dim=input_dim, hidden_layers=hidden_layers, hidden_dim=hidden_dim).to(device)\n",
        "criterion = nn.CrossEntropyLoss()\n",
        "optimizer = torch.optim.Adam(model.parameters(), lr=learning_rate)\n",
        "\n",
        "best_acc = 0.0\n",
        "for epoch in range(num_epoch):\n",
        "    train_acc = 0.0\n",
        "    train_loss = 0.0\n",
        "    val_acc = 0.0\n",
        "    val_loss = 0.0\n",
        "\n",
        "    # training\n",
        "    model.train() # set the model to training mode\n",
        "    for i, batch in enumerate(tqdm(train_loader)):\n",
        "        features, labels = batch\n",
        "        features = features.to(device)\n",
        "        labels = labels.to(device)\n",
        "\n",
        "        optimizer.zero_grad()\n",
        "        outputs = model(features)\n",
        "\n",
        "        loss = criterion(outputs, labels)\n",
        "        loss.backward()\n",
        "        optimizer.step()\n",
        "\n",
        "        _, train_pred = torch.max(outputs, 1) # get the index of the class with the highest probability\n",
        "        train_acc += (train_pred.detach() == labels.detach()).sum().item()\n",
        "        train_loss += loss.item()\n",
        "\n",
        "    # validation\n",
        "    model.eval() # set the model to evaluation mode\n",
        "    with torch.no_grad():\n",
        "        for i, batch in enumerate(tqdm(val_loader)):\n",
        "            features, labels = batch\n",
        "            features = features.to(device)\n",
        "            labels = labels.to(device)\n",
        "            outputs = model(features)\n",
        "\n",
        "            loss = criterion(outputs, labels)\n",
        "\n",
        "            _, val_pred = torch.max(outputs, 1)\n",
        "            val_acc += (val_pred.cpu() == labels.cpu()).sum().item() # get the index of the class with the highest probability\n",
        "            val_loss += loss.item()\n",
        "\n",
        "    print(f'[{epoch+1:03d}/{num_epoch:03d}] Train Acc: {train_acc/len(train_set):3.5f} Loss: {train_loss/len(train_loader):3.5f} | Val Acc: {val_acc/len(val_set):3.5f} loss: {val_loss/len(val_loader):3.5f}')\n",
        "\n",
        "    # if the model improves, save a checkpoint at this epoch\n",
        "    if val_acc > best_acc:\n",
        "        best_acc = val_acc\n",
        "        torch.save(model.state_dict(), model_path)\n",
        "        print(f'saving model with acc {best_acc/len(val_set):.5f}')\n"
      ]
    },
    {
      "cell_type": "code",
      "execution_count": null,
      "metadata": {
        "colab": {
          "background_save": true
        },
        "id": "ab33MxosWLmG",
        "outputId": "7653ad7d-a2ba-44c4-fe20-c89a15daf119"
      },
      "outputs": [
        {
          "data": {
            "text/plain": [
              "0"
            ]
          },
          "execution_count": 9,
          "metadata": {},
          "output_type": "execute_result"
        }
      ],
      "source": [
        "del train_set, val_set\n",
        "del train_loader, val_loader\n",
        "gc.collect()"
      ]
    },
    {
      "cell_type": "code",
      "execution_count": null,
      "metadata": {
        "colab": {
          "background_save": true
        },
        "id": "olsJRwY9VOVX",
        "outputId": "ee11c452-40a2-434d-ea16-06d51b064d66"
      },
      "outputs": [
        {
          "name": "stdout",
          "output_type": "stream",
          "text": [
            "19234291\n"
          ]
        }
      ],
      "source": [
        "pytorch_total_params = sum(p.numel() for p in model.parameters())\n",
        "print(pytorch_total_params)"
      ]
    },
    {
      "cell_type": "markdown",
      "metadata": {
        "id": "1Hi7jTn3PX-m"
      },
      "source": [
        "# Testing\n",
        "Create a testing dataset, and load model from the saved checkpoint."
      ]
    },
    {
      "cell_type": "code",
      "execution_count": null,
      "metadata": {
        "id": "VOG1Ou0PGrhc"
      },
      "outputs": [],
      "source": [
        "# load data\n",
        "test_X = preprocess_data(split='test', feat_dir='./libriphone/feat', phone_path='./libriphone', concat_nframes=concat_nframes)\n",
        "test_set = LibriDataset(test_X, None)\n",
        "test_loader = DataLoader(test_set, batch_size=batch_size, shuffle=False)"
      ]
    },
    {
      "cell_type": "code",
      "execution_count": null,
      "metadata": {
        "id": "ay0Fu8Ovkdad"
      },
      "outputs": [],
      "source": [
        "# load model\n",
        "model = Classifier(input_dim=input_dim, hidden_layers=hidden_layers, hidden_dim=hidden_dim).to(device)\n",
        "model.load_state_dict(torch.load(model_path))"
      ]
    },
    {
      "cell_type": "markdown",
      "metadata": {
        "id": "zp-DV1p4r7Nz"
      },
      "source": [
        "Make prediction."
      ]
    },
    {
      "cell_type": "code",
      "execution_count": null,
      "metadata": {
        "id": "84HU5GGjPqR0"
      },
      "outputs": [],
      "source": [
        "pred = np.array([], dtype=np.int32)\n",
        "\n",
        "model.eval()\n",
        "with torch.no_grad():\n",
        "    for i, batch in enumerate(tqdm(test_loader)):\n",
        "        features = batch\n",
        "        features = features.to(device)\n",
        "\n",
        "        outputs = model(features)\n",
        "\n",
        "        _, test_pred = torch.max(outputs, 1) # get the index of the class with the highest probability\n",
        "        pred = np.concatenate((pred, test_pred.cpu().numpy()), axis=0)\n"
      ]
    },
    {
      "cell_type": "markdown",
      "metadata": {
        "id": "wyZqy40Prz0v"
      },
      "source": [
        "Write prediction to a CSV file.\n",
        "\n",
        "After finish running this block, download the file `prediction.csv` from the files section on the left-hand side and submit it to Kaggle."
      ]
    },
    {
      "cell_type": "code",
      "execution_count": null,
      "metadata": {
        "id": "GuljYSPHcZir"
      },
      "outputs": [],
      "source": [
        "with open('0.25.csv', 'w') as f:\n",
        "    f.write('Id,Class\\n')\n",
        "    for i, y in enumerate(pred):\n",
        "        f.write('{},{}\\n'.format(i, y))"
      ]
    },
    {
      "cell_type": "code",
      "execution_count": null,
      "metadata": {
        "id": "PmMnwrHeavJv"
      },
      "outputs": [],
      "source": [
        "from google.colab import files\n",
        "files.download('0.25.csv')"
      ]
    }
  ],
  "metadata": {
    "accelerator": "GPU",
    "colab": {
      "provenance": []
    },
    "kernelspec": {
      "display_name": "Python 3",
      "name": "python3"
    }
  },
  "nbformat": 4,
  "nbformat_minor": 0
}