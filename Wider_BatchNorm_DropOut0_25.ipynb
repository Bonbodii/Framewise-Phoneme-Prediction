{
  "cells": [
    {
      "cell_type": "markdown",
      "metadata": {
        "id": "OYlaRwNu7ojq"
      },
      "source": [
        "# **Homework 2: Phoneme Classification**\n"
      ]
    },
    {
      "cell_type": "markdown",
      "source": [
        "Objectives:\n",
        "* Solve a classification problem with deep neural networks (DNNs).\n",
        "* Understand recursive neural networks (RNNs).\n",
        "\n",
        "If you have any questions, please contact the TAs via TA hours, NTU COOL, or email to mlta-2023-spring@googlegroups.com"
      ],
      "metadata": {
        "id": "A7DRC5V7_8A5"
      }
    },
    {
      "cell_type": "markdown",
      "metadata": {
        "id": "KVUGfWTo7_Oj"
      },
      "source": [
        "# Download Data\n",
        "Download data from google drive, then unzip it.\n",
        "\n",
        "You should have\n",
        "- `libriphone/train_split.txt`: training metadata\n",
        "- `libriphone/train_labels`: training labels\n",
        "- `libriphone/test_split.txt`: testing metadata\n",
        "- `libriphone/feat/train/*.pt`: training feature\n",
        "- `libriphone/feat/test/*.pt`:  testing feature\n",
        "\n",
        "after running the following block.\n",
        "\n",
        "> **Notes: if the google drive link is dead, you can download the data directly from [Kaggle](https://www.kaggle.com/c/ml2023spring-hw2/data) and upload it to the workspace.**\n"
      ]
    },
    {
      "cell_type": "code",
      "execution_count": null,
      "metadata": {
        "id": "OzkiMEcC3Foq",
        "colab": {
          "base_uri": "https://localhost:8080/"
        },
        "outputId": "1211237c-8310-4a85-b1ef-adef7756be12"
      },
      "outputs": [
        {
          "output_type": "stream",
          "name": "stdout",
          "text": [
            "Looking in indexes: https://pypi.org/simple, https://us-python.pkg.dev/colab-wheels/public/simple/\n",
            "Requirement already satisfied: gdown in /usr/local/lib/python3.10/dist-packages (4.6.6)\n",
            "Collecting gdown\n",
            "  Downloading gdown-4.7.1-py3-none-any.whl (15 kB)\n",
            "Requirement already satisfied: filelock in /usr/local/lib/python3.10/dist-packages (from gdown) (3.12.0)\n",
            "Requirement already satisfied: requests[socks] in /usr/local/lib/python3.10/dist-packages (from gdown) (2.27.1)\n",
            "Requirement already satisfied: six in /usr/local/lib/python3.10/dist-packages (from gdown) (1.16.0)\n",
            "Requirement already satisfied: tqdm in /usr/local/lib/python3.10/dist-packages (from gdown) (4.65.0)\n",
            "Requirement already satisfied: beautifulsoup4 in /usr/local/lib/python3.10/dist-packages (from gdown) (4.11.2)\n",
            "Requirement already satisfied: soupsieve>1.2 in /usr/local/lib/python3.10/dist-packages (from beautifulsoup4->gdown) (2.4.1)\n",
            "Requirement already satisfied: urllib3<1.27,>=1.21.1 in /usr/local/lib/python3.10/dist-packages (from requests[socks]->gdown) (1.26.15)\n",
            "Requirement already satisfied: certifi>=2017.4.17 in /usr/local/lib/python3.10/dist-packages (from requests[socks]->gdown) (2022.12.7)\n",
            "Requirement already satisfied: charset-normalizer~=2.0.0 in /usr/local/lib/python3.10/dist-packages (from requests[socks]->gdown) (2.0.12)\n",
            "Requirement already satisfied: idna<4,>=2.5 in /usr/local/lib/python3.10/dist-packages (from requests[socks]->gdown) (3.4)\n",
            "Requirement already satisfied: PySocks!=1.5.7,>=1.5.6 in /usr/local/lib/python3.10/dist-packages (from requests[socks]->gdown) (1.7.1)\n",
            "Installing collected packages: gdown\n",
            "  Attempting uninstall: gdown\n",
            "    Found existing installation: gdown 4.6.6\n",
            "    Uninstalling gdown-4.6.6:\n",
            "      Successfully uninstalled gdown-4.6.6\n",
            "Successfully installed gdown-4.7.1\n",
            "/usr/local/lib/python3.10/dist-packages/gdown/cli.py:126: FutureWarning: Option `--id` was deprecated in version 4.3.1 and will be removed in 5.0. You don't need to pass it anymore to use a file ID.\n",
            "  warnings.warn(\n",
            "Downloading...\n",
            "From (uriginal): https://drive.google.com/uc?id=1qzCRnywKh30mTbWUEjXuNT2isOCAPdO1\n",
            "From (redirected): https://drive.google.com/uc?id=1qzCRnywKh30mTbWUEjXuNT2isOCAPdO1&confirm=t&uuid=622dd045-cfee-411f-b49c-86c15624b353\n",
            "To: /content/libriphone.zip\n",
            "100% 384M/384M [00:03<00:00, 99.8MB/s]\n",
            "feat  test_split.txt  train_labels.txt\ttrain_split.txt\n"
          ]
        }
      ],
      "source": [
        "!pip install --upgrade gdown\n",
        "\n",
        "# Main link\n",
        "# !gdown --id '1N1eVIDe9hKM5uiNRGmifBlwSDGiVXPJe' --output libriphone.zip\n",
        "!gdown --id '1qzCRnywKh30mTbWUEjXuNT2isOCAPdO1' --output libriphone.zip\n",
        "\n",
        "!unzip -q libriphone.zip\n",
        "!ls libriphone"
      ]
    },
    {
      "cell_type": "markdown",
      "source": [
        "# Some Utility Functions\n",
        "**Fixes random number generator seeds for reproducibility.**"
      ],
      "metadata": {
        "id": "pADUiYODJE1O"
      }
    },
    {
      "cell_type": "code",
      "source": [
        "import numpy as np\n",
        "import torch\n",
        "import random\n",
        "\n",
        "def same_seeds(seed):\n",
        "    random.seed(seed)\n",
        "    np.random.seed(seed)\n",
        "    torch.manual_seed(seed)\n",
        "    if torch.cuda.is_available():\n",
        "        torch.cuda.manual_seed(seed)\n",
        "        torch.cuda.manual_seed_all(seed)\n",
        "    torch.backends.cudnn.benchmark = False\n",
        "    torch.backends.cudnn.deterministic = True"
      ],
      "metadata": {
        "id": "BsZKgBZQJjaE"
      },
      "execution_count": null,
      "outputs": []
    },
    {
      "cell_type": "markdown",
      "metadata": {
        "id": "_L_4anls8Drv"
      },
      "source": [
        "**Helper functions to pre-process the training data from raw MFCC features of each utterance.**\n",
        "\n",
        "A phoneme may span several frames and is dependent to past and future frames. \\\n",
        "Hence we concatenate neighboring phonemes for training to achieve higher accuracy. The **concat_feat** function concatenates past and future k frames (total 2k+1 = n frames), and we predict the center frame.\n",
        "\n",
        "Feel free to modify the data preprocess functions, but **do not drop any frame** (if you modify the functions, remember to check that the number of frames are the same as mentioned in the slides)"
      ]
    },
    {
      "cell_type": "code",
      "execution_count": null,
      "metadata": {
        "id": "IJjLT8em-y9G"
      },
      "outputs": [],
      "source": [
        "import os\n",
        "import torch\n",
        "from tqdm import tqdm\n",
        "\n",
        "def load_feat(path):\n",
        "    feat = torch.load(path)\n",
        "    return feat\n",
        "\n",
        "def shift(x, n):\n",
        "    if n < 0:\n",
        "        left = x[0].repeat(-n, 1)\n",
        "        right = x[:n]\n",
        "    elif n > 0:\n",
        "        right = x[-1].repeat(n, 1)\n",
        "        left = x[n:]\n",
        "    else:\n",
        "        return x\n",
        "\n",
        "    return torch.cat((left, right), dim=0)\n",
        "\n",
        "def concat_feat(x, concat_n):\n",
        "    assert concat_n % 2 == 1 # n must be odd\n",
        "    if concat_n < 2:\n",
        "        return x\n",
        "    seq_len, feature_dim = x.size(0), x.size(1)\n",
        "    x = x.repeat(1, concat_n)\n",
        "    x = x.view(seq_len, concat_n, feature_dim).permute(1, 0, 2) # concat_n, seq_len, feature_dim\n",
        "    mid = (concat_n // 2)\n",
        "    for r_idx in range(1, mid+1):\n",
        "        x[mid + r_idx, :] = shift(x[mid + r_idx], r_idx)\n",
        "        x[mid - r_idx, :] = shift(x[mid - r_idx], -r_idx)\n",
        "\n",
        "    return x.permute(1, 0, 2).view(seq_len, concat_n * feature_dim)\n",
        "\n",
        "def preprocess_data(split, feat_dir, phone_path, concat_nframes, train_ratio=0.8, random_seed=1213):\n",
        "    class_num = 41 # NOTE: pre-computed, should not need change\n",
        "\n",
        "    if split == 'train' or split == 'val':\n",
        "        mode = 'train'\n",
        "    elif split == 'test':\n",
        "        mode = 'test'\n",
        "    else:\n",
        "        raise ValueError('Invalid \\'split\\' argument for dataset: PhoneDataset!')\n",
        "\n",
        "    label_dict = {}\n",
        "    if mode == 'train':\n",
        "        for line in open(os.path.join(phone_path, f'{mode}_labels.txt')).readlines():\n",
        "            line = line.strip('\\n').split(' ')\n",
        "            label_dict[line[0]] = [int(p) for p in line[1:]]\n",
        "\n",
        "        # split training and validation data\n",
        "        usage_list = open(os.path.join(phone_path, 'train_split.txt')).readlines()\n",
        "        random.seed(random_seed)\n",
        "        random.shuffle(usage_list)\n",
        "        train_len = int(len(usage_list) * train_ratio)\n",
        "        usage_list = usage_list[:train_len] if split == 'train' else usage_list[train_len:]\n",
        "\n",
        "    elif mode == 'test':\n",
        "        usage_list = open(os.path.join(phone_path, 'test_split.txt')).readlines()\n",
        "\n",
        "    usage_list = [line.strip('\\n') for line in usage_list]\n",
        "    print('[Dataset] - # phone classes: ' + str(class_num) + ', number of utterances for ' + split + ': ' + str(len(usage_list)))\n",
        "\n",
        "    max_len = 3000000\n",
        "    X = torch.empty(max_len, 39 * concat_nframes)\n",
        "    if mode == 'train':\n",
        "        y = torch.empty(max_len, dtype=torch.long)\n",
        "\n",
        "    idx = 0\n",
        "    for i, fname in tqdm(enumerate(usage_list)):\n",
        "        feat = load_feat(os.path.join(feat_dir, mode, f'{fname}.pt'))\n",
        "        cur_len = len(feat)\n",
        "        feat = concat_feat(feat, concat_nframes)\n",
        "        if mode == 'train':\n",
        "          label = torch.LongTensor(label_dict[fname])\n",
        "\n",
        "        X[idx: idx + cur_len, :] = feat\n",
        "        if mode == 'train':\n",
        "          y[idx: idx + cur_len] = label\n",
        "\n",
        "        idx += cur_len\n",
        "\n",
        "    X = X[:idx, :]\n",
        "    if mode == 'train':\n",
        "      y = y[:idx]\n",
        "\n",
        "    print(f'[INFO] {split} set')\n",
        "    print(X.shape)\n",
        "    if mode == 'train':\n",
        "      print(y.shape)\n",
        "      return X, y\n",
        "    else:\n",
        "      return X\n"
      ]
    },
    {
      "cell_type": "markdown",
      "metadata": {
        "id": "us5XW_x6udZQ"
      },
      "source": [
        "# Dataset"
      ]
    },
    {
      "cell_type": "code",
      "execution_count": null,
      "metadata": {
        "id": "Fjf5EcmJtf4e"
      },
      "outputs": [],
      "source": [
        "import torch\n",
        "from torch.utils.data import Dataset\n",
        "\n",
        "class LibriDataset(Dataset):\n",
        "    def __init__(self, X, y=None):\n",
        "        self.data = X\n",
        "        if y is not None:\n",
        "            self.label = torch.LongTensor(y)\n",
        "        else:\n",
        "            self.label = None\n",
        "\n",
        "    def __getitem__(self, idx):\n",
        "        if self.label is not None:\n",
        "            return self.data[idx], self.label[idx]\n",
        "        else:\n",
        "            return self.data[idx]\n",
        "\n",
        "    def __len__(self):\n",
        "        return len(self.data)\n"
      ]
    },
    {
      "cell_type": "markdown",
      "metadata": {
        "id": "IRqKNvNZwe3V"
      },
      "source": [
        "# Model\n",
        "Feel free to modify the structure of the model."
      ]
    },
    {
      "cell_type": "code",
      "execution_count": null,
      "metadata": {
        "id": "Bg-GRd7ywdrL"
      },
      "outputs": [],
      "source": [
        "import torch.nn as nn\n",
        "\n",
        "class BasicBlock(nn.Module):\n",
        "    def __init__(self, input_dim, output_dim):\n",
        "        super(BasicBlock, self).__init__()\n",
        "\n",
        "        # TODO: apply batch normalization and dropout for strong baseline.\n",
        "        # Reference: https://pytorch.org/docs/stable/generated/torch.nn.BatchNorm1d.html (batch normalization)\n",
        "        #       https://pytorch.org/docs/stable/generated/torch.nn.Dropout.html (dropout)\n",
        "        self.block = nn.Sequential(\n",
        "            nn.Linear(input_dim, output_dim),\n",
        "            nn.BatchNorm1d(output_dim),\n",
        "            nn.ReLU(),\n",
        "            nn.Dropout(0.25)\n",
        "        )\n",
        "\n",
        "    def forward(self, x):\n",
        "        x = self.block(x)\n",
        "        return x\n",
        "\n",
        "\n",
        "class Classifier(nn.Module):\n",
        "    def __init__(self, input_dim, output_dim=41, hidden_layers=1, hidden_dim=256):\n",
        "        super(Classifier, self).__init__()\n",
        "\n",
        "        self.fc = nn.Sequential(\n",
        "            BasicBlock(input_dim, hidden_dim),\n",
        "            *[BasicBlock(hidden_dim, hidden_dim) for _ in range(hidden_layers)],\n",
        "            nn.Linear(hidden_dim, output_dim)\n",
        "        )\n",
        "\n",
        "    def forward(self, x):\n",
        "        x = self.fc(x)\n",
        "        return x"
      ]
    },
    {
      "cell_type": "markdown",
      "source": [
        "# Hyper-parameters"
      ],
      "metadata": {
        "id": "TlIq8JeqvvHC"
      }
    },
    {
      "cell_type": "code",
      "source": [
        "# data prarameters\n",
        "# TODO: change the value of \"concat_nframes\" for medium baseline\n",
        "concat_nframes = 11   # the number of frames to concat with, n must be odd (total 2k+1 = n frames)\n",
        "train_ratio = 0.75   # the ratio of data used for training, the rest will be used for validation\n",
        "\n",
        "# training parameters\n",
        "seed = 1213          # random seed\n",
        "batch_size = 512        # batch size\n",
        "num_epoch = 70         # the number of training epoch\n",
        "learning_rate = 1e-4      # learning rate\n",
        "model_path = './model.ckpt'  # the path where the checkpoint will be saved\n",
        "\n",
        "# model parameters\n",
        "# TODO: change the value of \"hidden_layers\" or \"hidden_dim\" for medium baseline\n",
        "input_dim = 39 * concat_nframes  # the input dim of the model, you should not change the value\n",
        "hidden_layers = 2          # the number of hidden layers\n",
        "hidden_dim = 1750           # the hidden dim"
      ],
      "metadata": {
        "id": "iIHn79Iav1ri"
      },
      "execution_count": null,
      "outputs": []
    },
    {
      "cell_type": "markdown",
      "source": [
        "# Dataloader"
      ],
      "metadata": {
        "id": "IIUFRgG5yoDn"
      }
    },
    {
      "cell_type": "code",
      "source": [
        "from torch.utils.data import DataLoader\n",
        "import gc\n",
        "\n",
        "same_seeds(seed)\n",
        "device = 'cuda' if torch.cuda.is_available() else 'cpu'\n",
        "print(f'DEVICE: {device}')\n",
        "\n",
        "# preprocess data\n",
        "train_X, train_y = preprocess_data(split='train', feat_dir='./libriphone/feat', phone_path='./libriphone', concat_nframes=concat_nframes, train_ratio=train_ratio, random_seed=seed)\n",
        "val_X, val_y = preprocess_data(split='val', feat_dir='./libriphone/feat', phone_path='./libriphone', concat_nframes=concat_nframes, train_ratio=train_ratio, random_seed=seed)\n",
        "\n",
        "# get dataset\n",
        "train_set = LibriDataset(train_X, train_y)\n",
        "val_set = LibriDataset(val_X, val_y)\n",
        "\n",
        "# remove raw feature to save memory\n",
        "del train_X, train_y, val_X, val_y\n",
        "gc.collect()\n",
        "\n",
        "# get dataloader\n",
        "train_loader = DataLoader(train_set, batch_size=batch_size, shuffle=True)\n",
        "val_loader = DataLoader(val_set, batch_size=batch_size, shuffle=False)"
      ],
      "metadata": {
        "id": "c1zI3v5jyrDn",
        "colab": {
          "base_uri": "https://localhost:8080/"
        },
        "outputId": "5b481ed6-b705-44fd-c788-d55551a7757d"
      },
      "execution_count": null,
      "outputs": [
        {
          "output_type": "stream",
          "name": "stdout",
          "text": [
            "DEVICE: cuda\n",
            "[Dataset] - # phone classes: 41, number of utterances for train: 2571\n"
          ]
        },
        {
          "output_type": "stream",
          "name": "stderr",
          "text": [
            "2571it [00:05, 465.45it/s]\n"
          ]
        },
        {
          "output_type": "stream",
          "name": "stdout",
          "text": [
            "[INFO] train set\n",
            "torch.Size([1588590, 429])\n",
            "torch.Size([1588590])\n",
            "[Dataset] - # phone classes: 41, number of utterances for val: 858\n"
          ]
        },
        {
          "output_type": "stream",
          "name": "stderr",
          "text": [
            "858it [00:02, 371.27it/s]\n"
          ]
        },
        {
          "output_type": "stream",
          "name": "stdout",
          "text": [
            "[INFO] val set\n",
            "torch.Size([528204, 429])\n",
            "torch.Size([528204])\n"
          ]
        }
      ]
    },
    {
      "cell_type": "markdown",
      "source": [],
      "metadata": {
        "id": "FtK9r4iZd56K"
      }
    },
    {
      "cell_type": "markdown",
      "source": [
        "# Training"
      ],
      "metadata": {
        "id": "pwWH1KIqzxEr"
      }
    },
    {
      "cell_type": "code",
      "execution_count": null,
      "metadata": {
        "id": "CdMWsBs7zzNs",
        "colab": {
          "base_uri": "https://localhost:8080/"
        },
        "outputId": "e3c732ba-84ba-4af2-c6db-0a9e08a4c03e"
      },
      "outputs": [
        {
          "output_type": "stream",
          "name": "stderr",
          "text": [
            "100%|██████████| 3103/3103 [00:40<00:00, 77.17it/s]\n",
            "100%|██████████| 1032/1032 [00:05<00:00, 176.52it/s]\n"
          ]
        },
        {
          "output_type": "stream",
          "name": "stdout",
          "text": [
            "[001/070] Train Acc: 0.58272 Loss: 1.37730 | Val Acc: 0.63992 loss: 1.15962\n",
            "saving model with acc 0.63992\n"
          ]
        },
        {
          "output_type": "stream",
          "name": "stderr",
          "text": [
            "100%|██████████| 3103/3103 [00:38<00:00, 80.37it/s]\n",
            "100%|██████████| 1032/1032 [00:06<00:00, 155.73it/s]\n"
          ]
        },
        {
          "output_type": "stream",
          "name": "stdout",
          "text": [
            "[002/070] Train Acc: 0.63667 Loss: 1.16580 | Val Acc: 0.65953 loss: 1.08511\n",
            "saving model with acc 0.65953\n"
          ]
        },
        {
          "output_type": "stream",
          "name": "stderr",
          "text": [
            "100%|██████████| 3103/3103 [00:37<00:00, 81.66it/s]\n",
            "100%|██████████| 1032/1032 [00:06<00:00, 158.90it/s]\n"
          ]
        },
        {
          "output_type": "stream",
          "name": "stdout",
          "text": [
            "[003/070] Train Acc: 0.65577 Loss: 1.09518 | Val Acc: 0.67166 loss: 1.04238\n",
            "saving model with acc 0.67166\n"
          ]
        },
        {
          "output_type": "stream",
          "name": "stderr",
          "text": [
            "100%|██████████| 3103/3103 [00:38<00:00, 81.52it/s]\n",
            "100%|██████████| 1032/1032 [00:05<00:00, 181.39it/s]\n"
          ]
        },
        {
          "output_type": "stream",
          "name": "stdout",
          "text": [
            "[004/070] Train Acc: 0.66888 Loss: 1.04777 | Val Acc: 0.67863 loss: 1.01754\n",
            "saving model with acc 0.67863\n"
          ]
        },
        {
          "output_type": "stream",
          "name": "stderr",
          "text": [
            "100%|██████████| 3103/3103 [00:37<00:00, 81.80it/s]\n",
            "100%|██████████| 1032/1032 [00:06<00:00, 158.73it/s]\n"
          ]
        },
        {
          "output_type": "stream",
          "name": "stdout",
          "text": [
            "[005/070] Train Acc: 0.67853 Loss: 1.01192 | Val Acc: 0.68338 loss: 1.00120\n",
            "saving model with acc 0.68338\n"
          ]
        },
        {
          "output_type": "stream",
          "name": "stderr",
          "text": [
            "100%|██████████| 3103/3103 [00:38<00:00, 81.64it/s]\n",
            "100%|██████████| 1032/1032 [00:05<00:00, 177.70it/s]\n"
          ]
        },
        {
          "output_type": "stream",
          "name": "stdout",
          "text": [
            "[006/070] Train Acc: 0.68740 Loss: 0.98123 | Val Acc: 0.68783 loss: 0.98425\n",
            "saving model with acc 0.68783\n"
          ]
        },
        {
          "output_type": "stream",
          "name": "stderr",
          "text": [
            "100%|██████████| 3103/3103 [00:38<00:00, 81.10it/s]\n",
            "100%|██████████| 1032/1032 [00:06<00:00, 167.76it/s]\n"
          ]
        },
        {
          "output_type": "stream",
          "name": "stdout",
          "text": [
            "[007/070] Train Acc: 0.69475 Loss: 0.95490 | Val Acc: 0.69244 loss: 0.97221\n",
            "saving model with acc 0.69244\n"
          ]
        },
        {
          "output_type": "stream",
          "name": "stderr",
          "text": [
            "100%|██████████| 3103/3103 [00:38<00:00, 81.38it/s]\n",
            "100%|██████████| 1032/1032 [00:06<00:00, 161.55it/s]\n"
          ]
        },
        {
          "output_type": "stream",
          "name": "stdout",
          "text": [
            "[008/070] Train Acc: 0.70086 Loss: 0.93176 | Val Acc: 0.69316 loss: 0.96786\n",
            "saving model with acc 0.69316\n"
          ]
        },
        {
          "output_type": "stream",
          "name": "stderr",
          "text": [
            "100%|██████████| 3103/3103 [00:38<00:00, 81.44it/s]\n",
            "100%|██████████| 1032/1032 [00:05<00:00, 179.96it/s]\n"
          ]
        },
        {
          "output_type": "stream",
          "name": "stdout",
          "text": [
            "[009/070] Train Acc: 0.70710 Loss: 0.91001 | Val Acc: 0.69669 loss: 0.95849\n",
            "saving model with acc 0.69669\n"
          ]
        },
        {
          "output_type": "stream",
          "name": "stderr",
          "text": [
            "100%|██████████| 3103/3103 [00:38<00:00, 81.26it/s]\n",
            "100%|██████████| 1032/1032 [00:06<00:00, 154.52it/s]\n"
          ]
        },
        {
          "output_type": "stream",
          "name": "stdout",
          "text": [
            "[010/070] Train Acc: 0.71286 Loss: 0.88947 | Val Acc: 0.69778 loss: 0.95332\n",
            "saving model with acc 0.69778\n"
          ]
        },
        {
          "output_type": "stream",
          "name": "stderr",
          "text": [
            "100%|██████████| 3103/3103 [00:37<00:00, 81.94it/s]\n",
            "100%|██████████| 1032/1032 [00:05<00:00, 181.34it/s]\n"
          ]
        },
        {
          "output_type": "stream",
          "name": "stdout",
          "text": [
            "[011/070] Train Acc: 0.71842 Loss: 0.87105 | Val Acc: 0.69981 loss: 0.94892\n",
            "saving model with acc 0.69981\n"
          ]
        },
        {
          "output_type": "stream",
          "name": "stderr",
          "text": [
            "100%|██████████| 3103/3103 [00:37<00:00, 81.66it/s]\n",
            "100%|██████████| 1032/1032 [00:06<00:00, 168.16it/s]\n"
          ]
        },
        {
          "output_type": "stream",
          "name": "stdout",
          "text": [
            "[012/070] Train Acc: 0.72270 Loss: 0.85319 | Val Acc: 0.69956 loss: 0.94899\n"
          ]
        },
        {
          "output_type": "stream",
          "name": "stderr",
          "text": [
            "100%|██████████| 3103/3103 [00:37<00:00, 81.71it/s]\n",
            "100%|██████████| 1032/1032 [00:06<00:00, 160.12it/s]\n"
          ]
        },
        {
          "output_type": "stream",
          "name": "stdout",
          "text": [
            "[013/070] Train Acc: 0.72741 Loss: 0.83697 | Val Acc: 0.70159 loss: 0.94760\n",
            "saving model with acc 0.70159\n"
          ]
        },
        {
          "output_type": "stream",
          "name": "stderr",
          "text": [
            "100%|██████████| 3103/3103 [00:38<00:00, 81.65it/s]\n",
            "100%|██████████| 1032/1032 [00:05<00:00, 178.89it/s]\n"
          ]
        },
        {
          "output_type": "stream",
          "name": "stdout",
          "text": [
            "[014/070] Train Acc: 0.73173 Loss: 0.82109 | Val Acc: 0.70283 loss: 0.94332\n",
            "saving model with acc 0.70283\n"
          ]
        },
        {
          "output_type": "stream",
          "name": "stderr",
          "text": [
            "100%|██████████| 3103/3103 [00:37<00:00, 81.78it/s]\n",
            "100%|██████████| 1032/1032 [00:06<00:00, 156.31it/s]\n"
          ]
        },
        {
          "output_type": "stream",
          "name": "stdout",
          "text": [
            "[015/070] Train Acc: 0.73640 Loss: 0.80557 | Val Acc: 0.70415 loss: 0.94238\n",
            "saving model with acc 0.70415\n"
          ]
        },
        {
          "output_type": "stream",
          "name": "stderr",
          "text": [
            "100%|██████████| 3103/3103 [00:38<00:00, 81.48it/s]\n",
            "100%|██████████| 1032/1032 [00:05<00:00, 180.51it/s]\n"
          ]
        },
        {
          "output_type": "stream",
          "name": "stdout",
          "text": [
            "[016/070] Train Acc: 0.73995 Loss: 0.79123 | Val Acc: 0.70375 loss: 0.94354\n"
          ]
        },
        {
          "output_type": "stream",
          "name": "stderr",
          "text": [
            "100%|██████████| 3103/3103 [00:38<00:00, 80.82it/s]\n",
            "100%|██████████| 1032/1032 [00:05<00:00, 172.80it/s]\n"
          ]
        },
        {
          "output_type": "stream",
          "name": "stdout",
          "text": [
            "[017/070] Train Acc: 0.74406 Loss: 0.77729 | Val Acc: 0.70434 loss: 0.94517\n",
            "saving model with acc 0.70434\n"
          ]
        },
        {
          "output_type": "stream",
          "name": "stderr",
          "text": [
            "100%|██████████| 3103/3103 [00:37<00:00, 81.87it/s]\n",
            "100%|██████████| 1032/1032 [00:06<00:00, 160.81it/s]\n"
          ]
        },
        {
          "output_type": "stream",
          "name": "stdout",
          "text": [
            "[018/070] Train Acc: 0.74760 Loss: 0.76398 | Val Acc: 0.70395 loss: 0.94431\n"
          ]
        },
        {
          "output_type": "stream",
          "name": "stderr",
          "text": [
            "100%|██████████| 3103/3103 [00:37<00:00, 82.14it/s]\n",
            "100%|██████████| 1032/1032 [00:05<00:00, 177.34it/s]\n"
          ]
        },
        {
          "output_type": "stream",
          "name": "stdout",
          "text": [
            "[019/070] Train Acc: 0.75153 Loss: 0.75063 | Val Acc: 0.70469 loss: 0.94658\n",
            "saving model with acc 0.70469\n"
          ]
        },
        {
          "output_type": "stream",
          "name": "stderr",
          "text": [
            "100%|██████████| 3103/3103 [00:37<00:00, 81.75it/s]\n",
            "100%|██████████| 1032/1032 [00:06<00:00, 156.75it/s]\n"
          ]
        },
        {
          "output_type": "stream",
          "name": "stdout",
          "text": [
            "[020/070] Train Acc: 0.75484 Loss: 0.73929 | Val Acc: 0.70495 loss: 0.94896\n",
            "saving model with acc 0.70495\n"
          ]
        },
        {
          "output_type": "stream",
          "name": "stderr",
          "text": [
            "100%|██████████| 3103/3103 [00:37<00:00, 81.94it/s]\n",
            "100%|██████████| 1032/1032 [00:05<00:00, 174.87it/s]\n"
          ]
        },
        {
          "output_type": "stream",
          "name": "stdout",
          "text": [
            "[021/070] Train Acc: 0.75900 Loss: 0.72652 | Val Acc: 0.70535 loss: 0.94821\n",
            "saving model with acc 0.70535\n"
          ]
        },
        {
          "output_type": "stream",
          "name": "stderr",
          "text": [
            "100%|██████████| 3103/3103 [00:38<00:00, 81.21it/s]\n",
            "100%|██████████| 1032/1032 [00:06<00:00, 169.20it/s]\n"
          ]
        },
        {
          "output_type": "stream",
          "name": "stdout",
          "text": [
            "[022/070] Train Acc: 0.76166 Loss: 0.71464 | Val Acc: 0.70596 loss: 0.95175\n",
            "saving model with acc 0.70596\n"
          ]
        },
        {
          "output_type": "stream",
          "name": "stderr",
          "text": [
            "100%|██████████| 3103/3103 [00:38<00:00, 81.34it/s]\n",
            "100%|██████████| 1032/1032 [00:06<00:00, 157.69it/s]\n"
          ]
        },
        {
          "output_type": "stream",
          "name": "stdout",
          "text": [
            "[023/070] Train Acc: 0.76494 Loss: 0.70353 | Val Acc: 0.70510 loss: 0.95155\n"
          ]
        },
        {
          "output_type": "stream",
          "name": "stderr",
          "text": [
            "100%|██████████| 3103/3103 [00:38<00:00, 81.51it/s]\n",
            "100%|██████████| 1032/1032 [00:05<00:00, 178.71it/s]\n"
          ]
        },
        {
          "output_type": "stream",
          "name": "stdout",
          "text": [
            "[024/070] Train Acc: 0.76749 Loss: 0.69379 | Val Acc: 0.70492 loss: 0.95709\n"
          ]
        },
        {
          "output_type": "stream",
          "name": "stderr",
          "text": [
            "100%|██████████| 3103/3103 [00:38<00:00, 81.30it/s]\n",
            "100%|██████████| 1032/1032 [00:06<00:00, 153.32it/s]\n"
          ]
        },
        {
          "output_type": "stream",
          "name": "stdout",
          "text": [
            "[025/070] Train Acc: 0.77103 Loss: 0.68225 | Val Acc: 0.70450 loss: 0.95936\n"
          ]
        },
        {
          "output_type": "stream",
          "name": "stderr",
          "text": [
            "100%|██████████| 3103/3103 [00:38<00:00, 81.51it/s]\n",
            "100%|██████████| 1032/1032 [00:05<00:00, 174.81it/s]\n"
          ]
        },
        {
          "output_type": "stream",
          "name": "stdout",
          "text": [
            "[026/070] Train Acc: 0.77396 Loss: 0.67276 | Val Acc: 0.70544 loss: 0.96142\n"
          ]
        },
        {
          "output_type": "stream",
          "name": "stderr",
          "text": [
            "100%|██████████| 3103/3103 [00:38<00:00, 81.44it/s]\n",
            "100%|██████████| 1032/1032 [00:05<00:00, 177.12it/s]\n"
          ]
        },
        {
          "output_type": "stream",
          "name": "stdout",
          "text": [
            "[027/070] Train Acc: 0.77660 Loss: 0.66242 | Val Acc: 0.70561 loss: 0.96314\n"
          ]
        },
        {
          "output_type": "stream",
          "name": "stderr",
          "text": [
            "100%|██████████| 3103/3103 [00:38<00:00, 81.49it/s]\n",
            "100%|██████████| 1032/1032 [00:06<00:00, 157.39it/s]\n"
          ]
        },
        {
          "output_type": "stream",
          "name": "stdout",
          "text": [
            "[028/070] Train Acc: 0.78008 Loss: 0.65263 | Val Acc: 0.70488 loss: 0.96638\n"
          ]
        },
        {
          "output_type": "stream",
          "name": "stderr",
          "text": [
            "100%|██████████| 3103/3103 [00:38<00:00, 81.46it/s]\n",
            "100%|██████████| 1032/1032 [00:05<00:00, 179.41it/s]\n"
          ]
        },
        {
          "output_type": "stream",
          "name": "stdout",
          "text": [
            "[029/070] Train Acc: 0.78221 Loss: 0.64420 | Val Acc: 0.70440 loss: 0.97271\n"
          ]
        },
        {
          "output_type": "stream",
          "name": "stderr",
          "text": [
            "100%|██████████| 3103/3103 [00:37<00:00, 82.12it/s]\n",
            "100%|██████████| 1032/1032 [00:06<00:00, 155.45it/s]\n"
          ]
        },
        {
          "output_type": "stream",
          "name": "stdout",
          "text": [
            "[030/070] Train Acc: 0.78502 Loss: 0.63488 | Val Acc: 0.70500 loss: 0.97662\n"
          ]
        },
        {
          "output_type": "stream",
          "name": "stderr",
          "text": [
            "100%|██████████| 3103/3103 [00:38<00:00, 81.33it/s]\n",
            "100%|██████████| 1032/1032 [00:05<00:00, 172.65it/s]\n"
          ]
        },
        {
          "output_type": "stream",
          "name": "stdout",
          "text": [
            "[031/070] Train Acc: 0.78753 Loss: 0.62636 | Val Acc: 0.70433 loss: 0.97985\n"
          ]
        },
        {
          "output_type": "stream",
          "name": "stderr",
          "text": [
            "100%|██████████| 3103/3103 [00:38<00:00, 81.02it/s]\n",
            "100%|██████████| 1032/1032 [00:05<00:00, 177.63it/s]\n"
          ]
        },
        {
          "output_type": "stream",
          "name": "stdout",
          "text": [
            "[032/070] Train Acc: 0.79010 Loss: 0.61882 | Val Acc: 0.70410 loss: 0.98254\n"
          ]
        },
        {
          "output_type": "stream",
          "name": "stderr",
          "text": [
            "100%|██████████| 3103/3103 [00:37<00:00, 81.76it/s]\n",
            "100%|██████████| 1032/1032 [00:06<00:00, 157.15it/s]\n"
          ]
        },
        {
          "output_type": "stream",
          "name": "stdout",
          "text": [
            "[033/070] Train Acc: 0.79204 Loss: 0.61076 | Val Acc: 0.70371 loss: 0.98386\n"
          ]
        },
        {
          "output_type": "stream",
          "name": "stderr",
          "text": [
            "100%|██████████| 3103/3103 [00:38<00:00, 81.54it/s]\n",
            "100%|██████████| 1032/1032 [00:05<00:00, 176.41it/s]\n"
          ]
        },
        {
          "output_type": "stream",
          "name": "stdout",
          "text": [
            "[034/070] Train Acc: 0.79426 Loss: 0.60376 | Val Acc: 0.70391 loss: 0.98478\n"
          ]
        },
        {
          "output_type": "stream",
          "name": "stderr",
          "text": [
            "100%|██████████| 3103/3103 [00:37<00:00, 82.13it/s]\n",
            "100%|██████████| 1032/1032 [00:06<00:00, 157.08it/s]\n"
          ]
        },
        {
          "output_type": "stream",
          "name": "stdout",
          "text": [
            "[035/070] Train Acc: 0.79648 Loss: 0.59709 | Val Acc: 0.70373 loss: 0.99155\n"
          ]
        },
        {
          "output_type": "stream",
          "name": "stderr",
          "text": [
            "100%|██████████| 3103/3103 [00:37<00:00, 82.19it/s]\n",
            "100%|██████████| 1032/1032 [00:05<00:00, 180.71it/s]\n"
          ]
        },
        {
          "output_type": "stream",
          "name": "stdout",
          "text": [
            "[036/070] Train Acc: 0.79845 Loss: 0.58952 | Val Acc: 0.70230 loss: 0.99707\n"
          ]
        },
        {
          "output_type": "stream",
          "name": "stderr",
          "text": [
            "100%|██████████| 3103/3103 [00:38<00:00, 81.61it/s]\n",
            "100%|██████████| 1032/1032 [00:05<00:00, 172.32it/s]\n"
          ]
        },
        {
          "output_type": "stream",
          "name": "stdout",
          "text": [
            "[037/070] Train Acc: 0.80075 Loss: 0.58248 | Val Acc: 0.70235 loss: 0.99588\n"
          ]
        },
        {
          "output_type": "stream",
          "name": "stderr",
          "text": [
            "100%|██████████| 3103/3103 [00:37<00:00, 81.90it/s]\n",
            "100%|██████████| 1032/1032 [00:06<00:00, 157.39it/s]\n"
          ]
        },
        {
          "output_type": "stream",
          "name": "stdout",
          "text": [
            "[038/070] Train Acc: 0.80245 Loss: 0.57686 | Val Acc: 0.70195 loss: 0.99828\n"
          ]
        },
        {
          "output_type": "stream",
          "name": "stderr",
          "text": [
            "100%|██████████| 3103/3103 [00:37<00:00, 81.96it/s]\n",
            "100%|██████████| 1032/1032 [00:05<00:00, 179.08it/s]\n"
          ]
        },
        {
          "output_type": "stream",
          "name": "stdout",
          "text": [
            "[039/070] Train Acc: 0.80504 Loss: 0.56909 | Val Acc: 0.70299 loss: 1.00436\n"
          ]
        },
        {
          "output_type": "stream",
          "name": "stderr",
          "text": [
            "100%|██████████| 3103/3103 [00:37<00:00, 81.83it/s]\n",
            "100%|██████████| 1032/1032 [00:06<00:00, 158.53it/s]\n"
          ]
        },
        {
          "output_type": "stream",
          "name": "stdout",
          "text": [
            "[040/070] Train Acc: 0.80665 Loss: 0.56313 | Val Acc: 0.70206 loss: 1.00767\n"
          ]
        },
        {
          "output_type": "stream",
          "name": "stderr",
          "text": [
            "100%|██████████| 3103/3103 [00:37<00:00, 81.93it/s]\n",
            "100%|██████████| 1032/1032 [00:05<00:00, 183.89it/s]\n"
          ]
        },
        {
          "output_type": "stream",
          "name": "stdout",
          "text": [
            "[041/070] Train Acc: 0.80848 Loss: 0.55723 | Val Acc: 0.70220 loss: 1.00757\n"
          ]
        },
        {
          "output_type": "stream",
          "name": "stderr",
          "text": [
            "100%|██████████| 3103/3103 [00:38<00:00, 81.58it/s]\n",
            "100%|██████████| 1032/1032 [00:06<00:00, 161.09it/s]\n"
          ]
        },
        {
          "output_type": "stream",
          "name": "stdout",
          "text": [
            "[042/070] Train Acc: 0.81027 Loss: 0.55212 | Val Acc: 0.70122 loss: 1.01488\n"
          ]
        },
        {
          "output_type": "stream",
          "name": "stderr",
          "text": [
            "100%|██████████| 3103/3103 [00:37<00:00, 81.89it/s]\n",
            "100%|██████████| 1032/1032 [00:06<00:00, 162.06it/s]\n"
          ]
        },
        {
          "output_type": "stream",
          "name": "stdout",
          "text": [
            "[043/070] Train Acc: 0.81166 Loss: 0.54682 | Val Acc: 0.70134 loss: 1.01620\n"
          ]
        },
        {
          "output_type": "stream",
          "name": "stderr",
          "text": [
            "100%|██████████| 3103/3103 [00:37<00:00, 82.00it/s]\n",
            "100%|██████████| 1032/1032 [00:05<00:00, 180.13it/s]\n"
          ]
        },
        {
          "output_type": "stream",
          "name": "stdout",
          "text": [
            "[044/070] Train Acc: 0.81354 Loss: 0.54108 | Val Acc: 0.70055 loss: 1.01732\n"
          ]
        },
        {
          "output_type": "stream",
          "name": "stderr",
          "text": [
            "100%|██████████| 3103/3103 [00:37<00:00, 82.08it/s]\n",
            "100%|██████████| 1032/1032 [00:06<00:00, 157.38it/s]\n"
          ]
        },
        {
          "output_type": "stream",
          "name": "stdout",
          "text": [
            "[045/070] Train Acc: 0.81541 Loss: 0.53572 | Val Acc: 0.70106 loss: 1.02568\n"
          ]
        },
        {
          "output_type": "stream",
          "name": "stderr",
          "text": [
            "100%|██████████| 3103/3103 [00:37<00:00, 82.07it/s]\n",
            "100%|██████████| 1032/1032 [00:05<00:00, 174.26it/s]\n"
          ]
        },
        {
          "output_type": "stream",
          "name": "stdout",
          "text": [
            "[046/070] Train Acc: 0.81655 Loss: 0.53063 | Val Acc: 0.70040 loss: 1.02765\n"
          ]
        },
        {
          "output_type": "stream",
          "name": "stderr",
          "text": [
            "100%|██████████| 3103/3103 [00:37<00:00, 81.83it/s]\n",
            "100%|██████████| 1032/1032 [00:06<00:00, 157.53it/s]\n"
          ]
        },
        {
          "output_type": "stream",
          "name": "stdout",
          "text": [
            "[047/070] Train Acc: 0.81842 Loss: 0.52614 | Val Acc: 0.70073 loss: 1.02918\n"
          ]
        },
        {
          "output_type": "stream",
          "name": "stderr",
          "text": [
            "100%|██████████| 3103/3103 [00:37<00:00, 82.11it/s]\n",
            "100%|██████████| 1032/1032 [00:06<00:00, 165.21it/s]\n"
          ]
        },
        {
          "output_type": "stream",
          "name": "stdout",
          "text": [
            "[048/070] Train Acc: 0.82023 Loss: 0.52068 | Val Acc: 0.70010 loss: 1.03588\n"
          ]
        },
        {
          "output_type": "stream",
          "name": "stderr",
          "text": [
            "100%|██████████| 3103/3103 [00:37<00:00, 81.80it/s]\n",
            "100%|██████████| 1032/1032 [00:05<00:00, 180.70it/s]\n"
          ]
        },
        {
          "output_type": "stream",
          "name": "stdout",
          "text": [
            "[049/070] Train Acc: 0.82101 Loss: 0.51733 | Val Acc: 0.70006 loss: 1.03556\n"
          ]
        },
        {
          "output_type": "stream",
          "name": "stderr",
          "text": [
            "100%|██████████| 3103/3103 [00:37<00:00, 81.89it/s]\n",
            "100%|██████████| 1032/1032 [00:06<00:00, 161.27it/s]\n"
          ]
        },
        {
          "output_type": "stream",
          "name": "stdout",
          "text": [
            "[050/070] Train Acc: 0.82254 Loss: 0.51290 | Val Acc: 0.70013 loss: 1.04081\n"
          ]
        },
        {
          "output_type": "stream",
          "name": "stderr",
          "text": [
            "100%|██████████| 3103/3103 [00:37<00:00, 81.87it/s]\n",
            "100%|██████████| 1032/1032 [00:05<00:00, 185.41it/s]\n"
          ]
        },
        {
          "output_type": "stream",
          "name": "stdout",
          "text": [
            "[051/070] Train Acc: 0.82392 Loss: 0.50767 | Val Acc: 0.70000 loss: 1.03992\n"
          ]
        },
        {
          "output_type": "stream",
          "name": "stderr",
          "text": [
            "100%|██████████| 3103/3103 [00:37<00:00, 82.03it/s]\n",
            "100%|██████████| 1032/1032 [00:06<00:00, 156.53it/s]\n"
          ]
        },
        {
          "output_type": "stream",
          "name": "stdout",
          "text": [
            "[052/070] Train Acc: 0.82501 Loss: 0.50450 | Val Acc: 0.69929 loss: 1.04268\n"
          ]
        },
        {
          "output_type": "stream",
          "name": "stderr",
          "text": [
            "100%|██████████| 3103/3103 [00:37<00:00, 81.97it/s]\n",
            "100%|██████████| 1032/1032 [00:05<00:00, 180.58it/s]\n"
          ]
        },
        {
          "output_type": "stream",
          "name": "stdout",
          "text": [
            "[053/070] Train Acc: 0.82709 Loss: 0.49877 | Val Acc: 0.69936 loss: 1.04280\n"
          ]
        },
        {
          "output_type": "stream",
          "name": "stderr",
          "text": [
            "100%|██████████| 3103/3103 [00:37<00:00, 81.89it/s]\n",
            "100%|██████████| 1032/1032 [00:05<00:00, 176.30it/s]\n"
          ]
        },
        {
          "output_type": "stream",
          "name": "stdout",
          "text": [
            "[054/070] Train Acc: 0.82786 Loss: 0.49587 | Val Acc: 0.69930 loss: 1.04998\n"
          ]
        },
        {
          "output_type": "stream",
          "name": "stderr",
          "text": [
            "100%|██████████| 3103/3103 [00:37<00:00, 81.82it/s]\n",
            "100%|██████████| 1032/1032 [00:06<00:00, 158.85it/s]\n"
          ]
        },
        {
          "output_type": "stream",
          "name": "stdout",
          "text": [
            "[055/070] Train Acc: 0.82887 Loss: 0.49237 | Val Acc: 0.69895 loss: 1.05339\n"
          ]
        },
        {
          "output_type": "stream",
          "name": "stderr",
          "text": [
            "100%|██████████| 3103/3103 [00:37<00:00, 82.01it/s]\n",
            "100%|██████████| 1032/1032 [00:05<00:00, 181.07it/s]\n"
          ]
        },
        {
          "output_type": "stream",
          "name": "stdout",
          "text": [
            "[056/070] Train Acc: 0.83045 Loss: 0.48817 | Val Acc: 0.69851 loss: 1.05603\n"
          ]
        },
        {
          "output_type": "stream",
          "name": "stderr",
          "text": [
            "100%|██████████| 3103/3103 [00:38<00:00, 81.65it/s]\n",
            "100%|██████████| 1032/1032 [00:06<00:00, 155.13it/s]\n"
          ]
        },
        {
          "output_type": "stream",
          "name": "stdout",
          "text": [
            "[057/070] Train Acc: 0.83169 Loss: 0.48504 | Val Acc: 0.69977 loss: 1.05846\n"
          ]
        },
        {
          "output_type": "stream",
          "name": "stderr",
          "text": [
            "100%|██████████| 3103/3103 [00:38<00:00, 81.24it/s]\n",
            "100%|██████████| 1032/1032 [00:05<00:00, 178.30it/s]\n"
          ]
        },
        {
          "output_type": "stream",
          "name": "stdout",
          "text": [
            "[058/070] Train Acc: 0.83236 Loss: 0.48200 | Val Acc: 0.69835 loss: 1.06252\n"
          ]
        },
        {
          "output_type": "stream",
          "name": "stderr",
          "text": [
            "100%|██████████| 3103/3103 [00:38<00:00, 80.50it/s]\n",
            "100%|██████████| 1032/1032 [00:06<00:00, 164.99it/s]\n"
          ]
        },
        {
          "output_type": "stream",
          "name": "stdout",
          "text": [
            "[059/070] Train Acc: 0.83373 Loss: 0.47716 | Val Acc: 0.69837 loss: 1.06407\n"
          ]
        },
        {
          "output_type": "stream",
          "name": "stderr",
          "text": [
            "100%|██████████| 3103/3103 [00:38<00:00, 81.63it/s]\n",
            "100%|██████████| 1032/1032 [00:06<00:00, 161.45it/s]\n"
          ]
        },
        {
          "output_type": "stream",
          "name": "stdout",
          "text": [
            "[060/070] Train Acc: 0.83472 Loss: 0.47524 | Val Acc: 0.69848 loss: 1.06621\n"
          ]
        },
        {
          "output_type": "stream",
          "name": "stderr",
          "text": [
            "100%|██████████| 3103/3103 [00:38<00:00, 81.60it/s]\n",
            "100%|██████████| 1032/1032 [00:05<00:00, 176.66it/s]\n"
          ]
        },
        {
          "output_type": "stream",
          "name": "stdout",
          "text": [
            "[061/070] Train Acc: 0.83601 Loss: 0.47099 | Val Acc: 0.69898 loss: 1.06434\n"
          ]
        },
        {
          "output_type": "stream",
          "name": "stderr",
          "text": [
            "100%|██████████| 3103/3103 [00:37<00:00, 82.20it/s]\n",
            "100%|██████████| 1032/1032 [00:06<00:00, 154.59it/s]\n"
          ]
        },
        {
          "output_type": "stream",
          "name": "stdout",
          "text": [
            "[062/070] Train Acc: 0.83705 Loss: 0.46776 | Val Acc: 0.69866 loss: 1.06466\n"
          ]
        },
        {
          "output_type": "stream",
          "name": "stderr",
          "text": [
            "100%|██████████| 3103/3103 [00:37<00:00, 81.81it/s]\n",
            "100%|██████████| 1032/1032 [00:05<00:00, 175.39it/s]\n"
          ]
        },
        {
          "output_type": "stream",
          "name": "stdout",
          "text": [
            "[063/070] Train Acc: 0.83780 Loss: 0.46556 | Val Acc: 0.69849 loss: 1.07168\n"
          ]
        },
        {
          "output_type": "stream",
          "name": "stderr",
          "text": [
            "100%|██████████| 3103/3103 [00:38<00:00, 81.02it/s]\n",
            "100%|██████████| 1032/1032 [00:06<00:00, 167.82it/s]\n"
          ]
        },
        {
          "output_type": "stream",
          "name": "stdout",
          "text": [
            "[064/070] Train Acc: 0.83863 Loss: 0.46226 | Val Acc: 0.69724 loss: 1.07600\n"
          ]
        },
        {
          "output_type": "stream",
          "name": "stderr",
          "text": [
            "100%|██████████| 3103/3103 [00:38<00:00, 81.37it/s]\n",
            "100%|██████████| 1032/1032 [00:06<00:00, 157.10it/s]\n"
          ]
        },
        {
          "output_type": "stream",
          "name": "stdout",
          "text": [
            "[065/070] Train Acc: 0.83974 Loss: 0.45913 | Val Acc: 0.69719 loss: 1.07850\n"
          ]
        },
        {
          "output_type": "stream",
          "name": "stderr",
          "text": [
            "100%|██████████| 3103/3103 [00:38<00:00, 81.23it/s]\n",
            "100%|██████████| 1032/1032 [00:05<00:00, 176.04it/s]\n"
          ]
        },
        {
          "output_type": "stream",
          "name": "stdout",
          "text": [
            "[066/070] Train Acc: 0.84075 Loss: 0.45691 | Val Acc: 0.69645 loss: 1.08249\n"
          ]
        },
        {
          "output_type": "stream",
          "name": "stderr",
          "text": [
            "100%|██████████| 3103/3103 [00:38<00:00, 81.40it/s]\n",
            "100%|██████████| 1032/1032 [00:06<00:00, 153.68it/s]\n"
          ]
        },
        {
          "output_type": "stream",
          "name": "stdout",
          "text": [
            "[067/070] Train Acc: 0.84144 Loss: 0.45433 | Val Acc: 0.69704 loss: 1.08451\n"
          ]
        },
        {
          "output_type": "stream",
          "name": "stderr",
          "text": [
            "100%|██████████| 3103/3103 [00:38<00:00, 81.16it/s]\n",
            "100%|██████████| 1032/1032 [00:06<00:00, 163.88it/s]\n"
          ]
        },
        {
          "output_type": "stream",
          "name": "stdout",
          "text": [
            "[068/070] Train Acc: 0.84219 Loss: 0.45116 | Val Acc: 0.69663 loss: 1.08481\n"
          ]
        },
        {
          "output_type": "stream",
          "name": "stderr",
          "text": [
            "100%|██████████| 3103/3103 [00:38<00:00, 81.08it/s]\n",
            "100%|██████████| 1032/1032 [00:05<00:00, 175.97it/s]\n"
          ]
        },
        {
          "output_type": "stream",
          "name": "stdout",
          "text": [
            "[069/070] Train Acc: 0.84347 Loss: 0.44789 | Val Acc: 0.69738 loss: 1.08505\n"
          ]
        },
        {
          "output_type": "stream",
          "name": "stderr",
          "text": [
            "100%|██████████| 3103/3103 [00:38<00:00, 81.18it/s]\n",
            "100%|██████████| 1032/1032 [00:06<00:00, 155.42it/s]"
          ]
        },
        {
          "output_type": "stream",
          "name": "stdout",
          "text": [
            "[070/070] Train Acc: 0.84421 Loss: 0.44689 | Val Acc: 0.69627 loss: 1.08566\n"
          ]
        },
        {
          "output_type": "stream",
          "name": "stderr",
          "text": [
            "\n"
          ]
        }
      ],
      "source": [
        "# create model, define a loss function, and optimizer\n",
        "model = Classifier(input_dim=input_dim, hidden_layers=hidden_layers, hidden_dim=hidden_dim).to(device)\n",
        "criterion = nn.CrossEntropyLoss()\n",
        "optimizer = torch.optim.Adam(model.parameters(), lr=learning_rate)\n",
        "\n",
        "best_acc = 0.0\n",
        "for epoch in range(num_epoch):\n",
        "    train_acc = 0.0\n",
        "    train_loss = 0.0\n",
        "    val_acc = 0.0\n",
        "    val_loss = 0.0\n",
        "\n",
        "    # training\n",
        "    model.train() # set the model to training mode\n",
        "    for i, batch in enumerate(tqdm(train_loader)):\n",
        "        features, labels = batch\n",
        "        features = features.to(device)\n",
        "        labels = labels.to(device)\n",
        "\n",
        "        optimizer.zero_grad()\n",
        "        outputs = model(features)\n",
        "\n",
        "        loss = criterion(outputs, labels)\n",
        "        loss.backward()\n",
        "        optimizer.step()\n",
        "\n",
        "        _, train_pred = torch.max(outputs, 1) # get the index of the class with the highest probability\n",
        "        train_acc += (train_pred.detach() == labels.detach()).sum().item()\n",
        "        train_loss += loss.item()\n",
        "\n",
        "    # validation\n",
        "    model.eval() # set the model to evaluation mode\n",
        "    with torch.no_grad():\n",
        "        for i, batch in enumerate(tqdm(val_loader)):\n",
        "            features, labels = batch\n",
        "            features = features.to(device)\n",
        "            labels = labels.to(device)\n",
        "            outputs = model(features)\n",
        "\n",
        "            loss = criterion(outputs, labels)\n",
        "\n",
        "            _, val_pred = torch.max(outputs, 1)\n",
        "            val_acc += (val_pred.cpu() == labels.cpu()).sum().item() # get the index of the class with the highest probability\n",
        "            val_loss += loss.item()\n",
        "\n",
        "    print(f'[{epoch+1:03d}/{num_epoch:03d}] Train Acc: {train_acc/len(train_set):3.5f} Loss: {train_loss/len(train_loader):3.5f} | Val Acc: {val_acc/len(val_set):3.5f} loss: {val_loss/len(val_loader):3.5f}')\n",
        "\n",
        "    # if the model improves, save a checkpoint at this epoch\n",
        "    if val_acc > best_acc:\n",
        "        best_acc = val_acc\n",
        "        torch.save(model.state_dict(), model_path)\n",
        "        print(f'saving model with acc {best_acc/len(val_set):.5f}')\n"
      ]
    },
    {
      "cell_type": "code",
      "execution_count": null,
      "metadata": {
        "id": "ab33MxosWLmG",
        "colab": {
          "base_uri": "https://localhost:8080/"
        },
        "outputId": "1eaefcb2-acf1-4e22-cf3f-cf81d6fafcfd"
      },
      "outputs": [
        {
          "output_type": "execute_result",
          "data": {
            "text/plain": [
              "0"
            ]
          },
          "metadata": {},
          "execution_count": 9
        }
      ],
      "source": [
        "del train_set, val_set\n",
        "del train_loader, val_loader\n",
        "gc.collect()"
      ]
    },
    {
      "cell_type": "code",
      "source": [
        "pytorch_total_params = sum(p.numel() for p in model.parameters())\n",
        "print(pytorch_total_params)"
      ],
      "metadata": {
        "outputId": "ce1e14e4-df66-4027-8a9b-887686390072",
        "colab": {
          "base_uri": "https://localhost:8080/"
        },
        "id": "olsJRwY9VOVX"
      },
      "execution_count": null,
      "outputs": [
        {
          "output_type": "stream",
          "name": "stdout",
          "text": [
            "6963291\n"
          ]
        }
      ]
    },
    {
      "cell_type": "markdown",
      "metadata": {
        "id": "1Hi7jTn3PX-m"
      },
      "source": [
        "# Testing\n",
        "Create a testing dataset, and load model from the saved checkpoint."
      ]
    },
    {
      "cell_type": "code",
      "execution_count": null,
      "metadata": {
        "id": "VOG1Ou0PGrhc",
        "colab": {
          "base_uri": "https://localhost:8080/"
        },
        "outputId": "57c24ffe-7d9f-48e6-f8aa-d9a01dac00d9"
      },
      "outputs": [
        {
          "output_type": "stream",
          "name": "stdout",
          "text": [
            "[Dataset] - # phone classes: 41, number of utterances for test: 857\n"
          ]
        },
        {
          "output_type": "stream",
          "name": "stderr",
          "text": [
            "857it [00:01, 510.62it/s]"
          ]
        },
        {
          "output_type": "stream",
          "name": "stdout",
          "text": [
            "[INFO] test set\n",
            "torch.Size([527364, 429])\n"
          ]
        },
        {
          "output_type": "stream",
          "name": "stderr",
          "text": [
            "\n"
          ]
        }
      ],
      "source": [
        "# load data\n",
        "test_X = preprocess_data(split='test', feat_dir='./libriphone/feat', phone_path='./libriphone', concat_nframes=concat_nframes)\n",
        "test_set = LibriDataset(test_X, None)\n",
        "test_loader = DataLoader(test_set, batch_size=batch_size, shuffle=False)"
      ]
    },
    {
      "cell_type": "code",
      "execution_count": null,
      "metadata": {
        "id": "ay0Fu8Ovkdad",
        "colab": {
          "base_uri": "https://localhost:8080/"
        },
        "outputId": "5701b273-3703-4bd9-cd30-36106aad7a82"
      },
      "outputs": [
        {
          "output_type": "execute_result",
          "data": {
            "text/plain": [
              "<All keys matched successfully>"
            ]
          },
          "metadata": {},
          "execution_count": 12
        }
      ],
      "source": [
        "# load model\n",
        "model = Classifier(input_dim=input_dim, hidden_layers=hidden_layers, hidden_dim=hidden_dim).to(device)\n",
        "model.load_state_dict(torch.load(model_path))"
      ]
    },
    {
      "cell_type": "markdown",
      "metadata": {
        "id": "zp-DV1p4r7Nz"
      },
      "source": [
        "Make prediction."
      ]
    },
    {
      "cell_type": "code",
      "execution_count": null,
      "metadata": {
        "id": "84HU5GGjPqR0",
        "colab": {
          "base_uri": "https://localhost:8080/"
        },
        "outputId": "2b0850d4-20a6-4364-e3c0-55355399a923"
      },
      "outputs": [
        {
          "output_type": "stream",
          "name": "stderr",
          "text": [
            "100%|██████████| 1031/1031 [00:03<00:00, 259.23it/s]\n"
          ]
        }
      ],
      "source": [
        "pred = np.array([], dtype=np.int32)\n",
        "\n",
        "model.eval()\n",
        "with torch.no_grad():\n",
        "    for i, batch in enumerate(tqdm(test_loader)):\n",
        "        features = batch\n",
        "        features = features.to(device)\n",
        "\n",
        "        outputs = model(features)\n",
        "\n",
        "        _, test_pred = torch.max(outputs, 1) # get the index of the class with the highest probability\n",
        "        pred = np.concatenate((pred, test_pred.cpu().numpy()), axis=0)\n"
      ]
    },
    {
      "cell_type": "markdown",
      "metadata": {
        "id": "wyZqy40Prz0v"
      },
      "source": [
        "Write prediction to a CSV file.\n",
        "\n",
        "After finish running this block, download the file `prediction.csv` from the files section on the left-hand side and submit it to Kaggle."
      ]
    },
    {
      "cell_type": "code",
      "execution_count": null,
      "metadata": {
        "id": "GuljYSPHcZir"
      },
      "outputs": [],
      "source": [
        "with open('0.25.csv', 'w') as f:\n",
        "    f.write('Id,Class\\n')\n",
        "    for i, y in enumerate(pred):\n",
        "        f.write('{},{}\\n'.format(i, y))"
      ]
    },
    {
      "cell_type": "code",
      "source": [
        "from google.colab import files\n",
        "files.download('0.25.csv')"
      ],
      "metadata": {
        "id": "PmMnwrHeavJv",
        "colab": {
          "base_uri": "https://localhost:8080/",
          "height": 17
        },
        "outputId": "e973dd89-5e99-48a0-e42a-3d550c9111a5"
      },
      "execution_count": null,
      "outputs": [
        {
          "output_type": "display_data",
          "data": {
            "text/plain": [
              "<IPython.core.display.Javascript object>"
            ],
            "application/javascript": [
              "\n",
              "    async function download(id, filename, size) {\n",
              "      if (!google.colab.kernel.accessAllowed) {\n",
              "        return;\n",
              "      }\n",
              "      const div = document.createElement('div');\n",
              "      const label = document.createElement('label');\n",
              "      label.textContent = `Downloading \"${filename}\": `;\n",
              "      div.appendChild(label);\n",
              "      const progress = document.createElement('progress');\n",
              "      progress.max = size;\n",
              "      div.appendChild(progress);\n",
              "      document.body.appendChild(div);\n",
              "\n",
              "      const buffers = [];\n",
              "      let downloaded = 0;\n",
              "\n",
              "      const channel = await google.colab.kernel.comms.open(id);\n",
              "      // Send a message to notify the kernel that we're ready.\n",
              "      channel.send({})\n",
              "\n",
              "      for await (const message of channel.messages) {\n",
              "        // Send a message to notify the kernel that we're ready.\n",
              "        channel.send({})\n",
              "        if (message.buffers) {\n",
              "          for (const buffer of message.buffers) {\n",
              "            buffers.push(buffer);\n",
              "            downloaded += buffer.byteLength;\n",
              "            progress.value = downloaded;\n",
              "          }\n",
              "        }\n",
              "      }\n",
              "      const blob = new Blob(buffers, {type: 'application/binary'});\n",
              "      const a = document.createElement('a');\n",
              "      a.href = window.URL.createObjectURL(blob);\n",
              "      a.download = filename;\n",
              "      div.appendChild(a);\n",
              "      a.click();\n",
              "      div.remove();\n",
              "    }\n",
              "  "
            ]
          },
          "metadata": {}
        },
        {
          "output_type": "display_data",
          "data": {
            "text/plain": [
              "<IPython.core.display.Javascript object>"
            ],
            "application/javascript": [
              "download(\"download_06c61bd4-0edc-414e-b5f3-96c5c0095d7a\", \"0.25.csv\", 4940381)"
            ]
          },
          "metadata": {}
        }
      ]
    }
  ],
  "metadata": {
    "accelerator": "GPU",
    "colab": {
      "provenance": []
    },
    "kernelspec": {
      "display_name": "Python 3",
      "name": "python3"
    }
  },
  "nbformat": 4,
  "nbformat_minor": 0
}